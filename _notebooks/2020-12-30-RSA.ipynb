{
 "cells": [
  {
   "cell_type": "markdown",
   "metadata": {},
   "source": [
    "# Python Implementation of RSA, Digital Signature and Certificates\n",
    "> Implementation of RSA, Digital Signature and Certificates without divining too deep into the Mathematics; then list out key math principles for further reference. In this way, one can understand *what* and *how* as a context before drilling into *why*.\n",
    "\n",
    "- toc: true\n",
    "- branch: master\n",
    "- badges: false\n",
    "- comments: true\n",
    "- categories: [jupyter, python, math]\n",
    "- hide: false\n",
    "- search_exclude: true\n",
    "- metadata_key1: metadata_value1\n",
    "- metadata_key2: metadata_value2"
   ]
  },
  {
   "cell_type": "markdown",
   "metadata": {},
   "source": [
    "## Introduction\n",
    "\n",
    "Information is power. However, to transmit info is tricky. At least 2 issues need to be solved in information transmission: **Security** and **Integrity**.\n",
    "\n",
    "- **Security (RSA)**\n",
    "\n",
    "No one can see the naked message other than the one intended.\n",
    "\n",
    "- **Integrity (Digital Signature)**\n",
    "\n",
    "No one shall replace the message with another dummy one in the middle of transimission;  \n",
    "If it happened, however, intended message receiver shall be able to find out."
   ]
  },
  {
   "cell_type": "markdown",
   "metadata": {},
   "source": [
    "## Rivest, Shamir and Adleman (RSA) Cryptosystem\n",
    "\n",
    "![rsa](rsa_imgs/bg2013062702.jpg)\n",
    "@MIT"
   ]
  },
  {
   "cell_type": "markdown",
   "metadata": {},
   "source": [
    "### Helper Functions"
   ]
  },
  {
   "cell_type": "code",
   "execution_count": 1,
   "metadata": {
    "ExecuteTime": {
     "end_time": "2021-01-04T03:13:44.984260Z",
     "start_time": "2021-01-04T03:13:44.966685Z"
    }
   },
   "outputs": [],
   "source": [
    "#collapse-hide\n",
    "import random\n",
    "import base64"
   ]
  },
  {
   "cell_type": "markdown",
   "metadata": {},
   "source": [
    "#### Check If a Number is Prime"
   ]
  },
  {
   "cell_type": "code",
   "execution_count": 2,
   "metadata": {
    "ExecuteTime": {
     "end_time": "2021-01-04T03:13:47.458984Z",
     "start_time": "2021-01-04T03:13:47.452726Z"
    }
   },
   "outputs": [],
   "source": [
    "#collapse-show\n",
    "def check_prime(num):\n",
    "    \"\"\"Check if num is prime\n",
    "    \n",
    "    \"\"\"\n",
    "    # prime numbers are greater than 1\n",
    "    if num > 1:\n",
    "        # check for factors\n",
    "        # TODO: refactoring to parallel\n",
    "        for i in range(2, num):\n",
    "            if (num % i) == 0:\n",
    "                return False\n",
    "        else:\n",
    "            return True\n",
    "    # if input number is less than\n",
    "    # or equal to 1, it is not prime\n",
    "    else:\n",
    "        return False"
   ]
  },
  {
   "cell_type": "markdown",
   "metadata": {},
   "source": [
    "#### Modular Multiplicative Inverse Function"
   ]
  },
  {
   "cell_type": "code",
   "execution_count": 3,
   "metadata": {
    "ExecuteTime": {
     "end_time": "2021-01-04T03:13:49.126230Z",
     "start_time": "2021-01-04T03:13:49.120057Z"
    }
   },
   "outputs": [],
   "source": [
    "#collapse-show\n",
    "# https://stackoverflow.com/a/9758173/3317548\n",
    "def egcd(a, b):\n",
    "    if a == 0:\n",
    "        return (b, 0, 1)\n",
    "    else:\n",
    "        g, y, x = egcd(b % a, a)\n",
    "        return (g, x - (b // a) * y, y)\n",
    "\n",
    "\n",
    "def modinv(a, m):\n",
    "    g, x, y = egcd(a, m)\n",
    "    if g != 1:\n",
    "        raise Exception(\"modular inverse does not exist\")\n",
    "    else:\n",
    "        aa = x % m\n",
    "        bb = int((1 - a * aa) / m)\n",
    "        return aa, bb"
   ]
  },
  {
   "cell_type": "markdown",
   "metadata": {},
   "source": [
    "#### List All Prime Numbers Smaller Than a Value"
   ]
  },
  {
   "cell_type": "code",
   "execution_count": 4,
   "metadata": {
    "ExecuteTime": {
     "end_time": "2021-01-04T03:13:50.271670Z",
     "start_time": "2021-01-04T03:13:50.265353Z"
    }
   },
   "outputs": [],
   "source": [
    "#collapse-show\n",
    "# https://stackoverflow.com/q/2068372/3317548\n",
    "def find_prime(n):\n",
    "    \"\"\" Returns  a list of primes < n \"\"\"\n",
    "    sieve = [True] * (n // 2)\n",
    "    for i in range(3, int(n ** 0.5) + 1, 2):\n",
    "        if sieve[i // 2]:\n",
    "            sieve[i * i // 2 :: i] = [False] * ((n - i * i - 1) // (2 * i) + 1)\n",
    "    return [2] + [2 * i + 1 for i in range(1, n // 2) if sieve[i]]"
   ]
  },
  {
   "cell_type": "markdown",
   "metadata": {},
   "source": [
    "###  Encryption & Decryption Process\n",
    "\n",
    "- Receiver (Richael) generate a pair of keys: **public** & **private**\n",
    "- She keeps **private** key to herself confidentially\n",
    "- She sends multiple copies of **public** key to every of her friends who need to send her message\n",
    "- Any one got Richael's **public** key can send her message now. For instance, Stephen:  \n",
    "    - Stephen'd like to send the original message: \"Hello Richael. Let's meet at 6:25 pm tomorrow at the airport Gate5, Terminal 2 :)\", to Richael.\n",
    "    - Stephen'd encrypt the message with Richaels **public** key into something looks random, e.g.  \"MHgxNTMzCjB4MmFmNgoweGFiOA...YWE0CjB4MWZlMwoweDIzMGY=\"\n",
    "    - Stephen'd send that \"random\" stuff to Richael.\n",
    "- After receiving the \"random\" stuff from Stephen, Richael uses her own **private** key to decrypt it into orignal message \"Hello Richael. How are you?!\"\n",
    "- Only with Richael's **private** key, the \"random\" stuff, produced with Richael's **public** key, can be decrpted. Unless Richael shares her **private** key, which she shall never do, no one other than Richael herself can obtain the original message \"Hello Richael. Let's meet at 6:25 pm tomorrow at the airport Gate5, Terminal 2 :)\"\n",
    "- If Richael'd like to answer to Stephen, she must obtain Stephen's **public** key."
   ]
  },
  {
   "cell_type": "markdown",
   "metadata": {},
   "source": [
    "#### Key Pair: Public & Private (Richael's Task)\n",
    "\n",
    "- Randomly pick 2 prime numbers (larger the better): **p** & **q** \n",
    "- Got their muliplication: **n=pxq**\n",
    "- Got the Euler number: **phi=(p-1)x(q-1)**\n",
    "- Randomly find a prime number in the range of 1 to **phi** (larger the better): **e**\n",
    "- Find the Modular Multiplicative Inverse of **e** relative to **phi**: **k**\n",
    "- public key is: **(n, e)**\n",
    "- private key is: **(n, k)**"
   ]
  },
  {
   "cell_type": "code",
   "execution_count": 33,
   "metadata": {
    "ExecuteTime": {
     "end_time": "2021-01-04T03:42:53.185560Z",
     "start_time": "2021-01-04T03:42:53.173536Z"
    }
   },
   "outputs": [
    {
     "data": {
      "text/plain": [
       "(193, 883, 170419, 20, '0b101001100110110011')"
      ]
     },
     "execution_count": 33,
     "metadata": {},
     "output_type": "execute_result"
    }
   ],
   "source": [
    "# prime numbers\n",
    "p = random.choice(list(find_prime(1024)))\n",
    "q = random.choice(list(find_prime(1024)))\n",
    "assert check_prime(p)\n",
    "assert check_prime(q)\n",
    "n = p * q\n",
    "p, q, n, len(bin(n)), bin(n)"
   ]
  },
  {
   "cell_type": "code",
   "execution_count": 34,
   "metadata": {
    "ExecuteTime": {
     "end_time": "2021-01-04T03:42:54.667491Z",
     "start_time": "2021-01-04T03:42:54.658508Z"
    }
   },
   "outputs": [
    {
     "data": {
      "text/plain": [
       "169344"
      ]
     },
     "execution_count": 34,
     "metadata": {},
     "output_type": "execute_result"
    }
   ],
   "source": [
    "# Euler number\n",
    "phi = (p - 1) * (q - 1)\n",
    "phi"
   ]
  },
  {
   "cell_type": "code",
   "execution_count": 35,
   "metadata": {
    "ExecuteTime": {
     "end_time": "2021-01-04T03:43:21.404905Z",
     "start_time": "2021-01-04T03:43:21.371385Z"
    }
   },
   "outputs": [
    {
     "data": {
      "text/plain": [
       "29567"
      ]
     },
     "execution_count": 35,
     "metadata": {},
     "output_type": "execute_result"
    }
   ],
   "source": [
    "e = random.choice(find_prime(phi))\n",
    "assert check_prime(e)\n",
    "e"
   ]
  },
  {
   "cell_type": "code",
   "execution_count": 37,
   "metadata": {
    "ExecuteTime": {
     "end_time": "2021-01-04T03:43:46.419569Z",
     "start_time": "2021-01-04T03:43:46.405968Z"
    }
   },
   "outputs": [
    {
     "data": {
      "text/plain": [
       "26879"
      ]
     },
     "execution_count": 37,
     "metadata": {},
     "output_type": "execute_result"
    }
   ],
   "source": [
    "k = modinv(e, phi)[0]\n",
    "k"
   ]
  },
  {
   "cell_type": "code",
   "execution_count": 38,
   "metadata": {
    "ExecuteTime": {
     "end_time": "2021-01-04T03:44:13.587230Z",
     "start_time": "2021-01-04T03:44:13.562697Z"
    }
   },
   "outputs": [
    {
     "data": {
      "text/plain": [
       "((170419, 29567), (170419, 26879))"
      ]
     },
     "execution_count": 38,
     "metadata": {},
     "output_type": "execute_result"
    }
   ],
   "source": [
    "public_key, private_key = (n, e), (n, k)\n",
    "public_key, private_key"
   ]
  },
  {
   "cell_type": "markdown",
   "metadata": {},
   "source": [
    "#### Encryption & Decryption\n",
    "\n",
    "- Original message to unicode numbers: **msg**\n",
    "- Encrypt message: **msg_encrypt = (msg^e)%n**\n",
    "- Decrypt message: **msg = (msg_encrypt^k)%n**"
   ]
  },
  {
   "cell_type": "markdown",
   "metadata": {},
   "source": [
    "#### Origial Message (Stephen's Task)"
   ]
  },
  {
   "cell_type": "code",
   "execution_count": 67,
   "metadata": {
    "ExecuteTime": {
     "end_time": "2021-01-04T04:09:15.945772Z",
     "start_time": "2021-01-04T04:09:15.937008Z"
    }
   },
   "outputs": [
    {
     "data": {
      "text/plain": [
       "[72,\n",
       " 101,\n",
       " 108,\n",
       " 108,\n",
       " 111,\n",
       " 32,\n",
       " 82,\n",
       " 105,\n",
       " 99,\n",
       " 104,\n",
       " 97,\n",
       " 101,\n",
       " 108,\n",
       " 46,\n",
       " 32,\n",
       " 76,\n",
       " 101,\n",
       " 116,\n",
       " 39,\n",
       " 115,\n",
       " 32,\n",
       " 109,\n",
       " 101,\n",
       " 101,\n",
       " 116,\n",
       " 32,\n",
       " 97,\n",
       " 116,\n",
       " 32,\n",
       " 54,\n",
       " 58,\n",
       " 50,\n",
       " 53,\n",
       " 32,\n",
       " 112,\n",
       " 109,\n",
       " 32,\n",
       " 116,\n",
       " 111,\n",
       " 109,\n",
       " 111,\n",
       " 114,\n",
       " 114,\n",
       " 111,\n",
       " 119,\n",
       " 32,\n",
       " 97,\n",
       " 116,\n",
       " 32,\n",
       " 116,\n",
       " 104,\n",
       " 101,\n",
       " 32,\n",
       " 97,\n",
       " 105,\n",
       " 114,\n",
       " 112,\n",
       " 111,\n",
       " 114,\n",
       " 116,\n",
       " 32,\n",
       " 71,\n",
       " 97,\n",
       " 116,\n",
       " 101,\n",
       " 53,\n",
       " 44,\n",
       " 32,\n",
       " 84,\n",
       " 101,\n",
       " 114,\n",
       " 109,\n",
       " 105,\n",
       " 110,\n",
       " 97,\n",
       " 108,\n",
       " 32,\n",
       " 50,\n",
       " 32,\n",
       " 58,\n",
       " 41]"
      ]
     },
     "execution_count": 67,
     "metadata": {},
     "output_type": "execute_result"
    }
   ],
   "source": [
    "#collapse-output\n",
    "# unicode\n",
    "msg = [ord(i) for i in \"Hello Richael. Let's meet at 6:25 pm tomorrow at the airport Gate5, Terminal 2 :)\"]\n",
    "msg"
   ]
  },
  {
   "cell_type": "markdown",
   "metadata": {},
   "source": [
    "#### Encrption (Stephen's Task)"
   ]
  },
  {
   "cell_type": "code",
   "execution_count": 68,
   "metadata": {
    "ExecuteTime": {
     "end_time": "2021-01-04T04:09:17.609348Z",
     "start_time": "2021-01-04T04:09:17.353157Z"
    }
   },
   "outputs": [
    {
     "data": {
      "text/plain": [
       "[169001,\n",
       " 140011,\n",
       " 129587,\n",
       " 129587,\n",
       " 126069,\n",
       " 169062,\n",
       " 132937,\n",
       " 13635,\n",
       " 118348,\n",
       " 33595,\n",
       " 38409,\n",
       " 140011,\n",
       " 129587,\n",
       " 14689,\n",
       " 169062,\n",
       " 97239,\n",
       " 140011,\n",
       " 120437,\n",
       " 154692,\n",
       " 81300,\n",
       " 169062,\n",
       " 98901,\n",
       " 140011,\n",
       " 140011,\n",
       " 120437,\n",
       " 169062,\n",
       " 38409,\n",
       " 120437,\n",
       " 169062,\n",
       " 71964,\n",
       " 92264,\n",
       " 16571,\n",
       " 60074,\n",
       " 169062,\n",
       " 72070,\n",
       " 98901,\n",
       " 169062,\n",
       " 120437,\n",
       " 126069,\n",
       " 98901,\n",
       " 126069,\n",
       " 750,\n",
       " 750,\n",
       " 126069,\n",
       " 116705,\n",
       " 169062,\n",
       " 38409,\n",
       " 120437,\n",
       " 169062,\n",
       " 120437,\n",
       " 33595,\n",
       " 140011,\n",
       " 169062,\n",
       " 38409,\n",
       " 13635,\n",
       " 750,\n",
       " 72070,\n",
       " 126069,\n",
       " 750,\n",
       " 120437,\n",
       " 169062,\n",
       " 134415,\n",
       " 38409,\n",
       " 120437,\n",
       " 140011,\n",
       " 60074,\n",
       " 1487,\n",
       " 169062,\n",
       " 65921,\n",
       " 140011,\n",
       " 750,\n",
       " 98901,\n",
       " 13635,\n",
       " 32710,\n",
       " 38409,\n",
       " 129587,\n",
       " 169062,\n",
       " 16571,\n",
       " 169062,\n",
       " 92264,\n",
       " 58013]"
      ]
     },
     "execution_count": 68,
     "metadata": {},
     "output_type": "execute_result"
    }
   ],
   "source": [
    "#collapse-output\n",
    "# encrption\n",
    "[(val ** public_key[1]) % public_key[0] for val in msg]"
   ]
  },
  {
   "cell_type": "code",
   "execution_count": 69,
   "metadata": {
    "ExecuteTime": {
     "end_time": "2021-01-04T04:09:18.074433Z",
     "start_time": "2021-01-04T04:09:17.830198Z"
    }
   },
   "outputs": [
    {
     "data": {
      "text/plain": [
       "'0x29429\\n0x222eb\\n0x1fa33\\n0x1fa33\\n0x1ec75\\n0x29466\\n0x20749\\n0x3543\\n0x1ce4c\\n0x833b\\n0x9609\\n0x222eb\\n0x1fa33\\n0x3961\\n0x29466\\n0x17bd7\\n0x222eb\\n0x1d675\\n0x25c44\\n0x13d94\\n0x29466\\n0x18255\\n0x222eb\\n0x222eb\\n0x1d675\\n0x29466\\n0x9609\\n0x1d675\\n0x29466\\n0x1191c\\n0x16868\\n0x40bb\\n0xeaaa\\n0x29466\\n0x11986\\n0x18255\\n0x29466\\n0x1d675\\n0x1ec75\\n0x18255\\n0x1ec75\\n0x2ee\\n0x2ee\\n0x1ec75\\n0x1c7e1\\n0x29466\\n0x9609\\n0x1d675\\n0x29466\\n0x1d675\\n0x833b\\n0x222eb\\n0x29466\\n0x9609\\n0x3543\\n0x2ee\\n0x11986\\n0x1ec75\\n0x2ee\\n0x1d675\\n0x29466\\n0x20d0f\\n0x9609\\n0x1d675\\n0x222eb\\n0xeaaa\\n0x5cf\\n0x29466\\n0x10181\\n0x222eb\\n0x2ee\\n0x18255\\n0x3543\\n0x7fc6\\n0x9609\\n0x1fa33\\n0x29466\\n0x40bb\\n0x29466\\n0x16868\\n0xe29d'"
      ]
     },
     "execution_count": 69,
     "metadata": {},
     "output_type": "execute_result"
    }
   ],
   "source": [
    "# hex encode or something else\n",
    "encry_msg = '\\n'.join([hex((val ** public_key[1]) % public_key[0]) for val in msg])\n",
    "encry_msg"
   ]
  },
  {
   "cell_type": "code",
   "execution_count": 70,
   "metadata": {
    "ExecuteTime": {
     "end_time": "2021-01-04T04:09:18.780909Z",
     "start_time": "2021-01-04T04:09:18.775999Z"
    }
   },
   "outputs": [
    {
     "data": {
      "text/plain": [
       "b'MHgyOTQyOQoweDIyMmViCjB4MWZhMzMKMHgxZmEzMwoweDFlYzc1CjB4Mjk0NjYKMHgyMDc0OQoweDM1NDMKMHgxY2U0YwoweDgzM2IKMHg5NjA5CjB4MjIyZWIKMHgxZmEzMwoweDM5NjEKMHgyOTQ2NgoweDE3YmQ3CjB4MjIyZWIKMHgxZDY3NQoweDI1YzQ0CjB4MTNkOTQKMHgyOTQ2NgoweDE4MjU1CjB4MjIyZWIKMHgyMjJlYgoweDFkNjc1CjB4Mjk0NjYKMHg5NjA5CjB4MWQ2NzUKMHgyOTQ2NgoweDExOTFjCjB4MTY4NjgKMHg0MGJiCjB4ZWFhYQoweDI5NDY2CjB4MTE5ODYKMHgxODI1NQoweDI5NDY2CjB4MWQ2NzUKMHgxZWM3NQoweDE4MjU1CjB4MWVjNzUKMHgyZWUKMHgyZWUKMHgxZWM3NQoweDFjN2UxCjB4Mjk0NjYKMHg5NjA5CjB4MWQ2NzUKMHgyOTQ2NgoweDFkNjc1CjB4ODMzYgoweDIyMmViCjB4Mjk0NjYKMHg5NjA5CjB4MzU0MwoweDJlZQoweDExOTg2CjB4MWVjNzUKMHgyZWUKMHgxZDY3NQoweDI5NDY2CjB4MjBkMGYKMHg5NjA5CjB4MWQ2NzUKMHgyMjJlYgoweGVhYWEKMHg1Y2YKMHgyOTQ2NgoweDEwMTgxCjB4MjIyZWIKMHgyZWUKMHgxODI1NQoweDM1NDMKMHg3ZmM2CjB4OTYwOQoweDFmYTMzCjB4Mjk0NjYKMHg0MGJiCjB4Mjk0NjYKMHgxNjg2OAoweGUyOWQ='"
      ]
     },
     "execution_count": 70,
     "metadata": {},
     "output_type": "execute_result"
    }
   ],
   "source": [
    "# base64 encode\n",
    "encry_msg = base64.b64encode(encry_msg.encode('utf8'))\n",
    "encry_msg"
   ]
  },
  {
   "cell_type": "markdown",
   "metadata": {},
   "source": [
    "#### Decryption (Richael's Task)"
   ]
  },
  {
   "cell_type": "code",
   "execution_count": 71,
   "metadata": {
    "ExecuteTime": {
     "end_time": "2021-01-04T04:09:19.859746Z",
     "start_time": "2021-01-04T04:09:19.848130Z"
    },
    "scrolled": false
   },
   "outputs": [
    {
     "data": {
      "text/plain": [
       "[169001,\n",
       " 140011,\n",
       " 129587,\n",
       " 129587,\n",
       " 126069,\n",
       " 169062,\n",
       " 132937,\n",
       " 13635,\n",
       " 118348,\n",
       " 33595,\n",
       " 38409,\n",
       " 140011,\n",
       " 129587,\n",
       " 14689,\n",
       " 169062,\n",
       " 97239,\n",
       " 140011,\n",
       " 120437,\n",
       " 154692,\n",
       " 81300,\n",
       " 169062,\n",
       " 98901,\n",
       " 140011,\n",
       " 140011,\n",
       " 120437,\n",
       " 169062,\n",
       " 38409,\n",
       " 120437,\n",
       " 169062,\n",
       " 71964,\n",
       " 92264,\n",
       " 16571,\n",
       " 60074,\n",
       " 169062,\n",
       " 72070,\n",
       " 98901,\n",
       " 169062,\n",
       " 120437,\n",
       " 126069,\n",
       " 98901,\n",
       " 126069,\n",
       " 750,\n",
       " 750,\n",
       " 126069,\n",
       " 116705,\n",
       " 169062,\n",
       " 38409,\n",
       " 120437,\n",
       " 169062,\n",
       " 120437,\n",
       " 33595,\n",
       " 140011,\n",
       " 169062,\n",
       " 38409,\n",
       " 13635,\n",
       " 750,\n",
       " 72070,\n",
       " 126069,\n",
       " 750,\n",
       " 120437,\n",
       " 169062,\n",
       " 134415,\n",
       " 38409,\n",
       " 120437,\n",
       " 140011,\n",
       " 60074,\n",
       " 1487,\n",
       " 169062,\n",
       " 65921,\n",
       " 140011,\n",
       " 750,\n",
       " 98901,\n",
       " 13635,\n",
       " 32710,\n",
       " 38409,\n",
       " 129587,\n",
       " 169062,\n",
       " 16571,\n",
       " 169062,\n",
       " 92264,\n",
       " 58013]"
      ]
     },
     "execution_count": 71,
     "metadata": {},
     "output_type": "execute_result"
    }
   ],
   "source": [
    "#collapse-output\n",
    "# base64 decode and hex decode\n",
    "[int(i, 16) for i in base64.b64decode(encry_msg).decode('utf8').split('\\n')]"
   ]
  },
  {
   "cell_type": "code",
   "execution_count": 72,
   "metadata": {
    "ExecuteTime": {
     "end_time": "2021-01-04T04:09:21.474769Z",
     "start_time": "2021-01-04T04:09:20.482135Z"
    }
   },
   "outputs": [
    {
     "name": "stdout",
     "output_type": "stream",
     "text": [
      "[72, 101, 108, 108, 111, 32, 82, 105, 99, 104, 97, 101, 108, 46, 32, 76, 101, 116, 39, 115, 32, 109, 101, 101, 116, 32, 97, 116, 32, 54, 58, 50, 53, 32, 112, 109, 32, 116, 111, 109, 111, 114, 114, 111, 119, 32, 97, 116, 32, 116, 104, 101, 32, 97, 105, 114, 112, 111, 114, 116, 32, 71, 97, 116, 101, 53, 44, 32, 84, 101, 114, 109, 105, 110, 97, 108, 32, 50, 32, 58, 41]\n",
      "Hello Richael. Let's meet at 6:25 pm tomorrow at the airport Gate5, Terminal 2 :)\n"
     ]
    }
   ],
   "source": [
    "# RSA decode\n",
    "decry_msg = [\n",
    "    int(i, 16) ** private_key[1] % private_key[0]\n",
    "    for i in base64.b64decode(encry_msg).decode(\"utf8\").split(\"\\n\")\n",
    "]\n",
    "print(decry_msg)\n",
    "print(\"\".join([chr(i) for i in decry_msg]))"
   ]
  },
  {
   "cell_type": "markdown",
   "metadata": {},
   "source": [
    "### Why is this secure?\n",
    "\n",
    "![Euler](rsa_imgs/euler.png)\n",
    "@Euler  \n",
    "*He changed the world and he is now everywhere; Remeber Euler and everything about him, otherwise you'd fail at some stage of your life, some math exams for sure.*\n",
    "\n",
    "- If another friend of Richael, say Tom, would like to know what Stephen sent to Richael, without asking Stephen or Richael.\n",
    "- Another guy, say Joseph, was eavesdropping the network communication.\n",
    "- Either Tom or Joseph would already have access to information of: \n",
    "    - **n** and **e** from public key because Richael broadcast it on the network to her friends.\n",
    "    - **msg_encrypt** because Stephen broadcast it on the network for Richael to retrieve.\n",
    "- In order to decrypt **msg_encrypt**, they need **private key** **(n, k)**;\n",
    "- They already have **n** so only need to figure out **k**.\n",
    "- **k** was generated with **e** and **phi**.\n",
    "- They know **e**. So they only need to know *phi*. \n",
    "- They need **p** and **q** to know **phi**\n",
    "- They know **n** which is the multiplication of prime numbers **p** and **q**\n",
    "- Tom or Joseph need to do **Prime Factorization** as **n=pxq**\n",
    "- Given **n** is large enough (1024 bits in nowadays common sense), Tom and Joseph would had been long gone before a modern computer, even they have access to [Fugaku](https://en.wikipedia.org/wiki/TOP500), could manage to figure out which 2 prime numebrs Richael picked at the first place, let along about by \"6:25 pm tomrrow\".\n",
    "- Richael may choose to update her key pairs frequently (change to different **p** and **q**) for the next message; this means Tom and Joseph can never catch up without a [Quantum Computer](https://www.newscientist.com/article/2227387-quantum-computer-sets-new-record-for-finding-prime-number-factors/)."
   ]
  },
  {
   "cell_type": "markdown",
   "metadata": {},
   "source": [
    "### Understand Your Computer\n",
    "\n",
    "Now if go to `~/.ssh`, you shall identify a number of different key files. Some of them are private key whilst others are public key; some are generated by OpenSSH whilst others by OpenSSL. They are also encoded by ASN.1 format among some variates.\n",
    "\n",
    "1. You can convert it into `*.PEM` file via:\n",
    "\n",
    "`ssh-keygen -f YOUR_KEY.pub -e -m pem > YOUR_KEY.pub.pem`\n",
    "\n",
    "2. Then inspect the content via:\n",
    "\n",
    "```python\n",
    "from Crypto.PublicKey import RSA\n",
    "from base64 import b64decode\n",
    "\n",
    "pem_key = b\"MII<DO NOT SHARE PRIVATE KEY>=\"\n",
    "key = b64decode(pem_key)\n",
    "keyPriv = RSA.importKey(key)\n",
    "# key now has all the components of the private\n",
    "print(keyPriv.keydata)\n",
    "print(keyPriv.n, keyPriv.e, keyPriv.d, keyPriv.p, keyPriv.q, keyPriv.u)\n",
    "\n",
    "assert keyPriv.p * keyPriv.q == keyPriv.n\n",
    "```\n",
    "\n",
    "For public key `*.pub.pem`, it has only `keyPriv.n` and `keyPriv.e`.   \n",
    "See: https://www.dlitz.net/software/pycrypto/api/2.6/Crypto.PublicKey.RSA-module.html\n",
    "\n",
    "3. Similarly, if you check `less ~/.ssh/known_hosts`, you shall see a number of lines of records, composing of:  \n",
    "\n",
    "`<domain_name,ip_address> <algorithm, e.g. ssh-rsa> <public_key>`  \n",
    "\n",
    "You can convert those `public_key` into `*.pem` like above and use the code snippet to check its content. You shall got `n` and `e`."
   ]
  },
  {
   "cell_type": "markdown",
   "metadata": {},
   "source": [
    "## Digital Signature\n",
    "\n",
    "There are 2 problems with the encryption and decryption process described above:  \n",
    "\n",
    "1. What if Joseph pretends to be Stephen, and sends her another message encrypted with Richaels **public key**, saying \"Hello Richael. Let's meet at 6:25 am the day after tomorrow at the train station Gate 1 :)\".\n",
    "\n",
    "*Answer*: this is solved by Digital Signature\n",
    "\n",
    "2. Joseph could totally generate his own key pair and pretend to be Richael. When Richael's friends receive \"her\" **public key**, how do they know it truly comes from Richael, rather than Joseph?\n",
    "\n",
    "*Answer*: this is solved by Certificate"
   ]
  },
  {
   "cell_type": "code",
   "execution_count": null,
   "metadata": {},
   "outputs": [],
   "source": []
  },
  {
   "cell_type": "code",
   "execution_count": null,
   "metadata": {},
   "outputs": [],
   "source": []
  },
  {
   "cell_type": "markdown",
   "metadata": {},
   "source": [
    "## Reference\n",
    "\n",
    "- https://blog.vrypan.net/2013/08/28/public-key-cryptography-for-non-geeks/\n",
    "- https://www.ruanyifeng.com/blog/2013/06/rsa_algorithm_part_one.html\n",
    "- https://us-cert.cisa.gov/ncas/tips/ST04-018#:~:text=Digital%20signatures%20work%20by%20proving,using%20the%20sender's%20private%20key."
   ]
  }
 ],
 "metadata": {
  "kernelspec": {
   "display_name": "mlmax",
   "language": "python",
   "name": "mlmax"
  },
  "language_info": {
   "codemirror_mode": {
    "name": "ipython",
    "version": 3
   },
   "file_extension": ".py",
   "mimetype": "text/x-python",
   "name": "python",
   "nbconvert_exporter": "python",
   "pygments_lexer": "ipython3",
   "version": "3.6.10"
  },
  "latex_envs": {
   "LaTeX_envs_menu_present": true,
   "autoclose": false,
   "autocomplete": true,
   "bibliofile": "biblio.bib",
   "cite_by": "apalike",
   "current_citInitial": 1,
   "eqLabelWithNumbers": true,
   "eqNumInitial": 1,
   "hotkeys": {
    "equation": "Ctrl-E",
    "itemize": "Ctrl-I"
   },
   "labels_anchors": false,
   "latex_user_defs": false,
   "report_style_numbering": false,
   "user_envs_cfg": false
  }
 },
 "nbformat": 4,
 "nbformat_minor": 4
}
