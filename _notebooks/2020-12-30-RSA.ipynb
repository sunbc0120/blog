{
 "cells": [
  {
   "cell_type": "markdown",
   "metadata": {},
   "source": [
    "# Python Implementation of RSA, Digital Signature and Certificates\n",
    "> Implementation of RSA, Digital Signature and Certificates without divining too deep into the Mathematics; then list out key math principles for further reference. In this way, one can understand *what* and *how* as a context before drilling into *why*.\n",
    "\n",
    "- toc: true\n",
    "- branch: master\n",
    "- badges: false\n",
    "- comments: true\n",
    "- categories: [jupyter, python, math]\n",
    "- hide: false\n",
    "- search_exclude: true\n",
    "- metadata_key1: metadata_value1\n",
    "- metadata_key2: metadata_value2"
   ]
  },
  {
   "cell_type": "markdown",
   "metadata": {},
   "source": [
    "## Introduction\n",
    "\n",
    "Information is power. However, to transmit info is tricky. At least 2 issues need to be solved in information transmission: **Security** and **Integrity**.\n",
    "\n",
    "- **Security (RSA)**\n",
    "\n",
    "No one can see the naked message other than the one intended.\n",
    "\n",
    "- **Integrity (Digital Signature)**\n",
    "\n",
    "No one shall replace the message with another dummy one in the middle of transimission;  \n",
    "If it happened, however, intended message receiver shall be able to find out."
   ]
  },
  {
   "cell_type": "markdown",
   "metadata": {},
   "source": [
    "## Rivest, Shamir and Adleman (RSA) Cryptosystem\n",
    "\n",
    "![rsa](rsa_imgs/bg2013062702.jpg)\n",
    "@MIT"
   ]
  },
  {
   "cell_type": "markdown",
   "metadata": {},
   "source": [
    "### Helper Functions"
   ]
  },
  {
   "cell_type": "code",
   "execution_count": 57,
   "metadata": {
    "ExecuteTime": {
     "end_time": "2021-01-04T09:46:20.516630Z",
     "start_time": "2021-01-04T09:46:20.508436Z"
    }
   },
   "outputs": [],
   "source": [
    "#collapse-hide\n",
    "import random\n",
    "import base64\n",
    "from hashlib import sha256"
   ]
  },
  {
   "cell_type": "markdown",
   "metadata": {},
   "source": [
    "#### Check If a Number is Prime"
   ]
  },
  {
   "cell_type": "code",
   "execution_count": 2,
   "metadata": {
    "ExecuteTime": {
     "end_time": "2021-01-04T09:15:57.028709Z",
     "start_time": "2021-01-04T09:15:57.023248Z"
    }
   },
   "outputs": [],
   "source": [
    "#collapse-show\n",
    "def check_prime(num):\n",
    "    \"\"\"Check if num is prime\n",
    "    \n",
    "    \"\"\"\n",
    "    # prime numbers are greater than 1\n",
    "    if num > 1:\n",
    "        # check for factors\n",
    "        # TODO: refactoring to parallel\n",
    "        for i in range(2, num):\n",
    "            if (num % i) == 0:\n",
    "                return False\n",
    "        else:\n",
    "            return True\n",
    "    # if input number is less than\n",
    "    # or equal to 1, it is not prime\n",
    "    else:\n",
    "        return False"
   ]
  },
  {
   "cell_type": "markdown",
   "metadata": {},
   "source": [
    "#### Modular Multiplicative Inverse Function"
   ]
  },
  {
   "cell_type": "code",
   "execution_count": 3,
   "metadata": {
    "ExecuteTime": {
     "end_time": "2021-01-04T09:15:57.050049Z",
     "start_time": "2021-01-04T09:15:57.042449Z"
    }
   },
   "outputs": [],
   "source": [
    "#collapse-show\n",
    "# https://stackoverflow.com/a/9758173/3317548\n",
    "def egcd(a, b):\n",
    "    if a == 0:\n",
    "        return (b, 0, 1)\n",
    "    else:\n",
    "        g, y, x = egcd(b % a, a)\n",
    "        return (g, x - (b // a) * y, y)\n",
    "\n",
    "\n",
    "def modinv(a, m):\n",
    "    g, x, y = egcd(a, m)\n",
    "    if g != 1:\n",
    "        raise Exception(\"modular inverse does not exist\")\n",
    "    else:\n",
    "        aa = x % m\n",
    "        bb = int((1 - a * aa) / m)\n",
    "        return aa, bb"
   ]
  },
  {
   "cell_type": "markdown",
   "metadata": {},
   "source": [
    "#### List All Prime Numbers Smaller Than a Value"
   ]
  },
  {
   "cell_type": "code",
   "execution_count": 4,
   "metadata": {
    "ExecuteTime": {
     "end_time": "2021-01-04T09:15:57.064312Z",
     "start_time": "2021-01-04T09:15:57.057100Z"
    }
   },
   "outputs": [],
   "source": [
    "#collapse-show\n",
    "# https://stackoverflow.com/q/2068372/3317548\n",
    "def find_prime(n):\n",
    "    \"\"\" Returns  a list of primes < n \"\"\"\n",
    "    sieve = [True] * (n // 2)\n",
    "    for i in range(3, int(n ** 0.5) + 1, 2):\n",
    "        if sieve[i // 2]:\n",
    "            sieve[i * i // 2 :: i] = [False] * ((n - i * i - 1) // (2 * i) + 1)\n",
    "    return [2] + [2 * i + 1 for i in range(1, n // 2) if sieve[i]]"
   ]
  },
  {
   "cell_type": "markdown",
   "metadata": {},
   "source": [
    "###  Encryption & Decryption Process\n",
    "\n",
    "- Receiver (Richael) generate a pair of keys: **public** & **private**\n",
    "- She keeps **private** key to herself confidentially\n",
    "- She sends multiple copies of **public** key to every of her friends who need to send her message\n",
    "- Any one got Richael's **public** key can send her message now. For instance, Stephen:  \n",
    "    - Stephen'd like to send the original message: \"Hello Richael. Let's meet at 6:25 pm tomorrow at the airport Gate5, Terminal 2 :)\", to Richael.\n",
    "    - Stephen'd encrypt the message with Richaels **public** key into something looks random, e.g.  \"MHgxNTMzCjB4MmFmNgoweGFiOA...YWE0CjB4MWZlMwoweDIzMGY=\"\n",
    "    - Stephen'd send that \"random\" stuff to Richael.\n",
    "- After receiving the \"random\" stuff from Stephen, Richael uses her own **private** key to decrypt it into orignal message \"Hello Richael. How are you?!\"\n",
    "- Only with Richael's **private** key, the \"random\" stuff, produced with Richael's **public** key, can be decrpted. Unless Richael shares her **private** key, which she shall never do, no one other than Richael herself can obtain the original message \"Hello Richael. Let's meet at 6:25 pm tomorrow at the airport Gate5, Terminal 2 :)\"\n",
    "- If Richael'd like to answer to Stephen, she must obtain Stephen's **public** key."
   ]
  },
  {
   "cell_type": "markdown",
   "metadata": {},
   "source": [
    "#### Key Pair: Public & Private (Richael's Task)\n",
    "\n",
    "- Randomly pick 2 prime numbers (larger the better): **p** & **q** \n",
    "- Got their muliplication: **n=pxq**\n",
    "- Got the Euler number: **phi=(p-1)x(q-1)**\n",
    "- Randomly find a prime number in the range of 1 to **phi** (larger the better): **e**\n",
    "- Find the Modular Multiplicative Inverse of **e** relative to **phi**: **k**\n",
    "- public key is: **(n, e)**\n",
    "- private key is: **(n, k)**"
   ]
  },
  {
   "cell_type": "code",
   "execution_count": 5,
   "metadata": {
    "ExecuteTime": {
     "end_time": "2021-01-04T09:15:57.097944Z",
     "start_time": "2021-01-04T09:15:57.079385Z"
    }
   },
   "outputs": [
    {
     "data": {
      "text/plain": [
       "(853, 499, 425647, 21, '0b1100111111010101111')"
      ]
     },
     "execution_count": 5,
     "metadata": {},
     "output_type": "execute_result"
    }
   ],
   "source": [
    "# prime numbers\n",
    "p = random.choice(list(find_prime(1024)))\n",
    "q = random.choice(list(find_prime(1024)))\n",
    "assert check_prime(p)\n",
    "assert check_prime(q)\n",
    "n = p * q\n",
    "p, q, n, len(bin(n)), bin(n)"
   ]
  },
  {
   "cell_type": "code",
   "execution_count": 6,
   "metadata": {
    "ExecuteTime": {
     "end_time": "2021-01-04T09:15:57.105900Z",
     "start_time": "2021-01-04T09:15:57.100216Z"
    }
   },
   "outputs": [
    {
     "data": {
      "text/plain": [
       "424296"
      ]
     },
     "execution_count": 6,
     "metadata": {},
     "output_type": "execute_result"
    }
   ],
   "source": [
    "# Euler number\n",
    "phi = (p - 1) * (q - 1)\n",
    "phi"
   ]
  },
  {
   "cell_type": "code",
   "execution_count": 7,
   "metadata": {
    "ExecuteTime": {
     "end_time": "2021-01-04T09:15:57.203457Z",
     "start_time": "2021-01-04T09:15:57.109533Z"
    }
   },
   "outputs": [
    {
     "data": {
      "text/plain": [
       "314953"
      ]
     },
     "execution_count": 7,
     "metadata": {},
     "output_type": "execute_result"
    }
   ],
   "source": [
    "e = random.choice(find_prime(phi))\n",
    "assert check_prime(e)\n",
    "e"
   ]
  },
  {
   "cell_type": "code",
   "execution_count": 8,
   "metadata": {
    "ExecuteTime": {
     "end_time": "2021-01-04T09:15:57.217418Z",
     "start_time": "2021-01-04T09:15:57.206557Z"
    }
   },
   "outputs": [
    {
     "data": {
      "text/plain": [
       "112369"
      ]
     },
     "execution_count": 8,
     "metadata": {},
     "output_type": "execute_result"
    }
   ],
   "source": [
    "k = modinv(e, phi)[0]\n",
    "k"
   ]
  },
  {
   "cell_type": "code",
   "execution_count": 9,
   "metadata": {
    "ExecuteTime": {
     "end_time": "2021-01-04T09:15:57.227541Z",
     "start_time": "2021-01-04T09:15:57.219304Z"
    }
   },
   "outputs": [
    {
     "data": {
      "text/plain": [
       "((425647, 314953), (425647, 112369))"
      ]
     },
     "execution_count": 9,
     "metadata": {},
     "output_type": "execute_result"
    }
   ],
   "source": [
    "public_key, private_key = (n, e), (n, k)\n",
    "public_key, private_key"
   ]
  },
  {
   "cell_type": "markdown",
   "metadata": {},
   "source": [
    "#### Encryption & Decryption Computation\n",
    "\n",
    "- Original message to unicode numbers: **msg**\n",
    "- Encrypt message: **msg_encrypt = (msg^e)%n**\n",
    "- Decrypt message: **msg = (msg_encrypt^k)%n**"
   ]
  },
  {
   "cell_type": "markdown",
   "metadata": {},
   "source": [
    "#### Origial Message (Stephen's Task)"
   ]
  },
  {
   "cell_type": "code",
   "execution_count": 61,
   "metadata": {
    "ExecuteTime": {
     "end_time": "2021-01-04T09:51:53.436187Z",
     "start_time": "2021-01-04T09:51:53.426228Z"
    },
    "scrolled": true
   },
   "outputs": [
    {
     "data": {
      "text/plain": [
       "[72,\n",
       " 101,\n",
       " 108,\n",
       " 108,\n",
       " 111,\n",
       " 32,\n",
       " 82,\n",
       " 105,\n",
       " 99,\n",
       " 104,\n",
       " 97,\n",
       " 101,\n",
       " 108,\n",
       " 46,\n",
       " 32,\n",
       " 76,\n",
       " 101,\n",
       " 116,\n",
       " 39,\n",
       " 115,\n",
       " 32,\n",
       " 109,\n",
       " 101,\n",
       " 101,\n",
       " 116,\n",
       " 32,\n",
       " 97,\n",
       " 116,\n",
       " 32,\n",
       " 54,\n",
       " 58,\n",
       " 50,\n",
       " 53,\n",
       " 32,\n",
       " 112,\n",
       " 109,\n",
       " 32,\n",
       " 116,\n",
       " 111,\n",
       " 109,\n",
       " 111,\n",
       " 114,\n",
       " 114,\n",
       " 111,\n",
       " 119,\n",
       " 32,\n",
       " 97,\n",
       " 116,\n",
       " 32,\n",
       " 116,\n",
       " 104,\n",
       " 101,\n",
       " 32,\n",
       " 97,\n",
       " 105,\n",
       " 114,\n",
       " 112,\n",
       " 111,\n",
       " 114,\n",
       " 116,\n",
       " 32,\n",
       " 71,\n",
       " 97,\n",
       " 116,\n",
       " 101,\n",
       " 53,\n",
       " 44,\n",
       " 32,\n",
       " 84,\n",
       " 101,\n",
       " 114,\n",
       " 109,\n",
       " 105,\n",
       " 110,\n",
       " 97,\n",
       " 108,\n",
       " 32,\n",
       " 50,\n",
       " 32,\n",
       " 45,\n",
       " 45,\n",
       " 83,\n",
       " 116,\n",
       " 101,\n",
       " 112,\n",
       " 104,\n",
       " 101,\n",
       " 110,\n",
       " 32,\n",
       " 58,\n",
       " 41]"
      ]
     },
     "execution_count": 61,
     "metadata": {},
     "output_type": "execute_result"
    }
   ],
   "source": [
    "#collapse-output\n",
    "# unicode\n",
    "msg = [ord(i) for i in \"Hello Richael. Let's meet at 6:25 pm tomorrow at the airport Gate5, Terminal 2 --Stephen :)\"]\n",
    "msg"
   ]
  },
  {
   "cell_type": "markdown",
   "metadata": {},
   "source": [
    "#### Encrption (Stephen's Task)"
   ]
  },
  {
   "cell_type": "code",
   "execution_count": 62,
   "metadata": {
    "ExecuteTime": {
     "end_time": "2021-01-04T09:52:13.627991Z",
     "start_time": "2021-01-04T09:51:55.899541Z"
    }
   },
   "outputs": [
    {
     "data": {
      "text/plain": [
       "[197325,\n",
       " 411465,\n",
       " 418365,\n",
       " 418365,\n",
       " 246125,\n",
       " 177580,\n",
       " 222918,\n",
       " 219180,\n",
       " 84094,\n",
       " 263749,\n",
       " 89156,\n",
       " 411465,\n",
       " 418365,\n",
       " 229863,\n",
       " 177580,\n",
       " 308909,\n",
       " 411465,\n",
       " 44601,\n",
       " 294261,\n",
       " 352422,\n",
       " 177580,\n",
       " 24787,\n",
       " 411465,\n",
       " 411465,\n",
       " 44601,\n",
       " 177580,\n",
       " 89156,\n",
       " 44601,\n",
       " 177580,\n",
       " 396892,\n",
       " 318333,\n",
       " 155084,\n",
       " 308030,\n",
       " 177580,\n",
       " 374496,\n",
       " 24787,\n",
       " 177580,\n",
       " 44601,\n",
       " 246125,\n",
       " 24787,\n",
       " 246125,\n",
       " 324521,\n",
       " 324521,\n",
       " 246125,\n",
       " 422335,\n",
       " 177580,\n",
       " 89156,\n",
       " 44601,\n",
       " 177580,\n",
       " 44601,\n",
       " 263749,\n",
       " 411465,\n",
       " 177580,\n",
       " 89156,\n",
       " 219180,\n",
       " 324521,\n",
       " 374496,\n",
       " 246125,\n",
       " 324521,\n",
       " 44601,\n",
       " 177580,\n",
       " 104344,\n",
       " 89156,\n",
       " 44601,\n",
       " 411465,\n",
       " 308030,\n",
       " 289371,\n",
       " 177580,\n",
       " 397962,\n",
       " 411465,\n",
       " 324521,\n",
       " 24787,\n",
       " 219180,\n",
       " 49482,\n",
       " 89156,\n",
       " 418365,\n",
       " 177580,\n",
       " 155084,\n",
       " 177580,\n",
       " 3523,\n",
       " 3523,\n",
       " 372567,\n",
       " 44601,\n",
       " 411465,\n",
       " 374496,\n",
       " 263749,\n",
       " 411465,\n",
       " 49482,\n",
       " 177580,\n",
       " 318333,\n",
       " 39481]"
      ]
     },
     "execution_count": 62,
     "metadata": {},
     "output_type": "execute_result"
    }
   ],
   "source": [
    "#collapse-output\n",
    "# encrption\n",
    "[(val ** public_key[1]) % public_key[0] for val in msg]"
   ]
  },
  {
   "cell_type": "code",
   "execution_count": 63,
   "metadata": {
    "ExecuteTime": {
     "end_time": "2021-01-04T09:52:28.994156Z",
     "start_time": "2021-01-04T09:52:13.634957Z"
    }
   },
   "outputs": [
    {
     "data": {
      "text/plain": [
       "'0x302cd\\n0x64749\\n0x6623d\\n0x6623d\\n0x3c16d\\n0x2b5ac\\n0x366c6\\n0x3582c\\n0x1487e\\n0x40645\\n0x15c44\\n0x64749\\n0x6623d\\n0x381e7\\n0x2b5ac\\n0x4b6ad\\n0x64749\\n0xae39\\n0x47d75\\n0x560a6\\n0x2b5ac\\n0x60d3\\n0x64749\\n0x64749\\n0xae39\\n0x2b5ac\\n0x15c44\\n0xae39\\n0x2b5ac\\n0x60e5c\\n0x4db7d\\n0x25dcc\\n0x4b33e\\n0x2b5ac\\n0x5b6e0\\n0x60d3\\n0x2b5ac\\n0xae39\\n0x3c16d\\n0x60d3\\n0x3c16d\\n0x4f3a9\\n0x4f3a9\\n0x3c16d\\n0x671bf\\n0x2b5ac\\n0x15c44\\n0xae39\\n0x2b5ac\\n0xae39\\n0x40645\\n0x64749\\n0x2b5ac\\n0x15c44\\n0x3582c\\n0x4f3a9\\n0x5b6e0\\n0x3c16d\\n0x4f3a9\\n0xae39\\n0x2b5ac\\n0x19798\\n0x15c44\\n0xae39\\n0x64749\\n0x4b33e\\n0x46a5b\\n0x2b5ac\\n0x6128a\\n0x64749\\n0x4f3a9\\n0x60d3\\n0x3582c\\n0xc14a\\n0x15c44\\n0x6623d\\n0x2b5ac\\n0x25dcc\\n0x2b5ac\\n0xdc3\\n0xdc3\\n0x5af57\\n0xae39\\n0x64749\\n0x5b6e0\\n0x40645\\n0x64749\\n0xc14a\\n0x2b5ac\\n0x4db7d\\n0x9a39'"
      ]
     },
     "execution_count": 63,
     "metadata": {},
     "output_type": "execute_result"
    }
   ],
   "source": [
    "# hex encode or something else\n",
    "encry_msg = '\\n'.join([hex((val ** public_key[1]) % public_key[0]) for val in msg])\n",
    "encry_msg"
   ]
  },
  {
   "cell_type": "code",
   "execution_count": 64,
   "metadata": {
    "ExecuteTime": {
     "end_time": "2021-01-04T09:52:29.025742Z",
     "start_time": "2021-01-04T09:52:28.997805Z"
    }
   },
   "outputs": [
    {
     "data": {
      "text/plain": [
       "b'MHgzMDJjZAoweDY0NzQ5CjB4NjYyM2QKMHg2NjIzZAoweDNjMTZkCjB4MmI1YWMKMHgzNjZjNgoweDM1ODJjCjB4MTQ4N2UKMHg0MDY0NQoweDE1YzQ0CjB4NjQ3NDkKMHg2NjIzZAoweDM4MWU3CjB4MmI1YWMKMHg0YjZhZAoweDY0NzQ5CjB4YWUzOQoweDQ3ZDc1CjB4NTYwYTYKMHgyYjVhYwoweDYwZDMKMHg2NDc0OQoweDY0NzQ5CjB4YWUzOQoweDJiNWFjCjB4MTVjNDQKMHhhZTM5CjB4MmI1YWMKMHg2MGU1YwoweDRkYjdkCjB4MjVkY2MKMHg0YjMzZQoweDJiNWFjCjB4NWI2ZTAKMHg2MGQzCjB4MmI1YWMKMHhhZTM5CjB4M2MxNmQKMHg2MGQzCjB4M2MxNmQKMHg0ZjNhOQoweDRmM2E5CjB4M2MxNmQKMHg2NzFiZgoweDJiNWFjCjB4MTVjNDQKMHhhZTM5CjB4MmI1YWMKMHhhZTM5CjB4NDA2NDUKMHg2NDc0OQoweDJiNWFjCjB4MTVjNDQKMHgzNTgyYwoweDRmM2E5CjB4NWI2ZTAKMHgzYzE2ZAoweDRmM2E5CjB4YWUzOQoweDJiNWFjCjB4MTk3OTgKMHgxNWM0NAoweGFlMzkKMHg2NDc0OQoweDRiMzNlCjB4NDZhNWIKMHgyYjVhYwoweDYxMjhhCjB4NjQ3NDkKMHg0ZjNhOQoweDYwZDMKMHgzNTgyYwoweGMxNGEKMHgxNWM0NAoweDY2MjNkCjB4MmI1YWMKMHgyNWRjYwoweDJiNWFjCjB4ZGMzCjB4ZGMzCjB4NWFmNTcKMHhhZTM5CjB4NjQ3NDkKMHg1YjZlMAoweDQwNjQ1CjB4NjQ3NDkKMHhjMTRhCjB4MmI1YWMKMHg0ZGI3ZAoweDlhMzk='"
      ]
     },
     "execution_count": 64,
     "metadata": {},
     "output_type": "execute_result"
    }
   ],
   "source": [
    "# base64 encode\n",
    "encry_msg = base64.b64encode(encry_msg.encode('utf8'))\n",
    "encry_msg"
   ]
  },
  {
   "cell_type": "markdown",
   "metadata": {},
   "source": [
    "#### Decryption (Richael's Task)"
   ]
  },
  {
   "cell_type": "code",
   "execution_count": 65,
   "metadata": {
    "ExecuteTime": {
     "end_time": "2021-01-04T09:52:29.070901Z",
     "start_time": "2021-01-04T09:52:29.036888Z"
    },
    "scrolled": false
   },
   "outputs": [
    {
     "data": {
      "text/plain": [
       "[197325,\n",
       " 411465,\n",
       " 418365,\n",
       " 418365,\n",
       " 246125,\n",
       " 177580,\n",
       " 222918,\n",
       " 219180,\n",
       " 84094,\n",
       " 263749,\n",
       " 89156,\n",
       " 411465,\n",
       " 418365,\n",
       " 229863,\n",
       " 177580,\n",
       " 308909,\n",
       " 411465,\n",
       " 44601,\n",
       " 294261,\n",
       " 352422,\n",
       " 177580,\n",
       " 24787,\n",
       " 411465,\n",
       " 411465,\n",
       " 44601,\n",
       " 177580,\n",
       " 89156,\n",
       " 44601,\n",
       " 177580,\n",
       " 396892,\n",
       " 318333,\n",
       " 155084,\n",
       " 308030,\n",
       " 177580,\n",
       " 374496,\n",
       " 24787,\n",
       " 177580,\n",
       " 44601,\n",
       " 246125,\n",
       " 24787,\n",
       " 246125,\n",
       " 324521,\n",
       " 324521,\n",
       " 246125,\n",
       " 422335,\n",
       " 177580,\n",
       " 89156,\n",
       " 44601,\n",
       " 177580,\n",
       " 44601,\n",
       " 263749,\n",
       " 411465,\n",
       " 177580,\n",
       " 89156,\n",
       " 219180,\n",
       " 324521,\n",
       " 374496,\n",
       " 246125,\n",
       " 324521,\n",
       " 44601,\n",
       " 177580,\n",
       " 104344,\n",
       " 89156,\n",
       " 44601,\n",
       " 411465,\n",
       " 308030,\n",
       " 289371,\n",
       " 177580,\n",
       " 397962,\n",
       " 411465,\n",
       " 324521,\n",
       " 24787,\n",
       " 219180,\n",
       " 49482,\n",
       " 89156,\n",
       " 418365,\n",
       " 177580,\n",
       " 155084,\n",
       " 177580,\n",
       " 3523,\n",
       " 3523,\n",
       " 372567,\n",
       " 44601,\n",
       " 411465,\n",
       " 374496,\n",
       " 263749,\n",
       " 411465,\n",
       " 49482,\n",
       " 177580,\n",
       " 318333,\n",
       " 39481]"
      ]
     },
     "execution_count": 65,
     "metadata": {},
     "output_type": "execute_result"
    }
   ],
   "source": [
    "#collapse-output\n",
    "# base64 decode and hex decode\n",
    "[int(i, 16) for i in base64.b64decode(encry_msg).decode('utf8').split('\\n')]"
   ]
  },
  {
   "cell_type": "code",
   "execution_count": 66,
   "metadata": {
    "ExecuteTime": {
     "end_time": "2021-01-04T09:52:52.195260Z",
     "start_time": "2021-01-04T09:52:29.153963Z"
    }
   },
   "outputs": [
    {
     "name": "stdout",
     "output_type": "stream",
     "text": [
      "[72, 101, 108, 108, 111, 32, 82, 105, 99, 104, 97, 101, 108, 46, 32, 76, 101, 116, 39, 115, 32, 109, 101, 101, 116, 32, 97, 116, 32, 54, 58, 50, 53, 32, 112, 109, 32, 116, 111, 109, 111, 114, 114, 111, 119, 32, 97, 116, 32, 116, 104, 101, 32, 97, 105, 114, 112, 111, 114, 116, 32, 71, 97, 116, 101, 53, 44, 32, 84, 101, 114, 109, 105, 110, 97, 108, 32, 50, 32, 45, 45, 83, 116, 101, 112, 104, 101, 110, 32, 58, 41]\n",
      "Hello Richael. Let's meet at 6:25 pm tomorrow at the airport Gate5, Terminal 2 --Stephen :)\n"
     ]
    }
   ],
   "source": [
    "# RSA decode\n",
    "decry_msg = [\n",
    "    int(i, 16) ** private_key[1] % private_key[0]\n",
    "    for i in base64.b64decode(encry_msg).decode(\"utf8\").split(\"\\n\")\n",
    "]\n",
    "print(decry_msg)\n",
    "print(\"\".join([chr(i) for i in decry_msg]))"
   ]
  },
  {
   "cell_type": "markdown",
   "metadata": {},
   "source": [
    "### Why is this secure?\n",
    "\n",
    "![Euler](rsa_imgs/euler.png)\n",
    "@Euler  \n",
    "*He changed the world and he is now everywhere; Remeber Euler and everything about him, otherwise you'd fail at some stage of your life, some math exams for sure.*\n",
    "\n",
    "- If another friend of Richael, say Tom, would like to know what Stephen sent to Richael, without asking Stephen or Richael.\n",
    "- Another guy, say Joseph, was eavesdropping the network communication.\n",
    "- Either Tom or Joseph would already have access to information of: \n",
    "    - **n** and **e** from public key because Richael broadcast it on the network to her friends.\n",
    "    - **msg_encrypt** because Stephen put it on the network for Richael to retrieve.\n",
    "- In order to decrypt **msg_encrypt**, they need **private key** **(n, k)**;\n",
    "- They already have **n** so only need to figure out **k**.\n",
    "- **k** was generated with **e** and **phi**.\n",
    "- They know **e**. So they only need to know *phi*. \n",
    "- They need **p** and **q** to know **phi**\n",
    "- They know **n** which is the multiplication of prime numbers **p** and **q**\n",
    "- Tom or Joseph need to do **Prime Factorization** as **n=pxq**\n",
    "- Given **n** is large enough (1024 bits in nowadays common sense), Tom and Joseph would had been long gone before a modern computer, even they have access to [Fugaku](https://en.wikipedia.org/wiki/TOP500), could manage to figure out which 2 prime numebrs Richael picked at the first place, let along about by \"6:25 pm tomrrow\".\n",
    "- Richael may choose to update her key pairs frequently (change to different **p** and **q**) for the next message; this means Tom and Joseph can never catch up without a [Quantum Computer](https://www.newscientist.com/article/2227387-quantum-computer-sets-new-record-for-finding-prime-number-factors/) on their hands."
   ]
  },
  {
   "cell_type": "markdown",
   "metadata": {},
   "source": [
    "### Investigate and Understand Your Computer\n",
    "\n",
    "Now if go to `~/.ssh`, you shall identify a number of different key files. Some of them are private key whilst others are public key; some are generated by OpenSSH whilst others by OpenSSL. They are also encoded by ASN.1 format among some variates.\n",
    "\n",
    "- You can convert it into `*.PEM` file via:  \n",
    "\n",
    "`ssh-keygen -f YOUR_KEY.pub -e -m pem > YOUR_KEY.pub.pem`\n",
    "\n",
    "- Then inspect the content via:\n",
    "\n",
    "```python\n",
    "from Crypto.PublicKey import RSA\n",
    "from base64 import b64decode\n",
    "\n",
    "pem_key = b\"MII<DO NOT SHARE PRIVATE KEY>=\"\n",
    "key = b64decode(pem_key)\n",
    "keyPriv = RSA.importKey(key)\n",
    "# key now has all the components of the private\n",
    "print(keyPriv.keydata)\n",
    "print(keyPriv.n, keyPriv.e, keyPriv.d, keyPriv.p, keyPriv.q, keyPriv.u)\n",
    "\n",
    "assert keyPriv.p * keyPriv.q == keyPriv.n\n",
    "```\n",
    "\n",
    "For public key `*.pub.pem`, it has only `keyPriv.n` and `keyPriv.e`.   \n",
    "See: https://www.dlitz.net/software/pycrypto/api/2.6/Crypto.PublicKey.RSA-module.html\n",
    "\n",
    "- Similarly, if you check `less ~/.ssh/known_hosts`, you shall see a number of lines of records, composing of:  \n",
    "\n",
    "`<domain_name,ip_address> <algorithm, e.g. ssh-rsa> <public_key>`  \n",
    "\n",
    "You can convert those `public_key` into `*.pem` like above and use the code snippet to check its content. You shall got `n` and `e`. When you send message to those servers, your message is encrypted with those `n` and `e`, and those server will use their private key to decrypt your message."
   ]
  },
  {
   "cell_type": "markdown",
   "metadata": {},
   "source": [
    "## Digital Signature\n",
    "\n",
    "What if Joseph pretends to be Stephen, and sends Richael another message encrypted with Richaels public key, saying \"Hello Richael. Let's meet at 6:25 am the day after tomorrow at the train station Gate 1 :)\". How does Richael know the message is truly from Stephen, or being altered by Joseph? \n",
    "\n",
    "Another case would be Joseph intercepted Stephen's **msg_encrypt**, then modified/deleted/added some characters in that *random* stuff (\"MHgxNTMzCjB4MmFmNgoweGFiO>B<...YWE0CjB4MWZlMwoweDIzMGY=\"), before sending to Rachael for decryption? Even though he cannot decrypt the message without Richael's private key, he can still alter it. For example, hiding some information about location:"
   ]
  },
  {
   "cell_type": "code",
   "execution_count": 47,
   "metadata": {
    "ExecuteTime": {
     "end_time": "2021-01-04T09:36:59.509751Z",
     "start_time": "2021-01-04T09:36:59.497002Z"
    }
   },
   "outputs": [
    {
     "data": {
      "text/plain": [
       "b'MHgzMDJjZAoweDY0NzQ5CjB4NjYyM2QKMHg2NjIzZAoweDNjMTZkCjB4MmI1YWMKMHgzNjZjNgoweDM1ODJjCjB4MTQ4N2UKMHg0MDY0NQoweDE1YzQ0CjB4NjQ3NDkKMHg2NjIzZAoweDM4MWU3CjB4MmI1YWMKMHg0YjZhZAoweDY0NzQ5CjB4YWUzOQoweDQ3ZDc1CjB4NTYwYTYKMHgyYjVhYwoweDYwZDMKMHg2NDc0OQoweDY0NzQ5CjB4YWUzOQoweDJiNWFjCjB4MTVjNDQKMHhhZTM5CjB4MmI1YWMKMHg2MGU1YwoweDRkYjdkCjB4MjVkY2MKMHg0YjMzZQ=='"
      ]
     },
     "execution_count": 47,
     "metadata": {},
     "output_type": "execute_result"
    }
   ],
   "source": [
    "encry_msg = base64.b64encode(\n",
    "    \"\\n\".join(\n",
    "        base64.b64decode(\n",
    "            b\"MHgzMDJjZAoweDY0NzQ5CjB4NjYyM2QKMHg2NjIzZAoweDNjMTZkCjB4MmI1YWMKMHgzNjZjNgoweDM1ODJjCjB4MTQ4N2UKMHg0MDY0NQoweDE1YzQ0CjB4NjQ3NDkKMHg2NjIzZAoweDM4MWU3CjB4MmI1YWMKMHg0YjZhZAoweDY0NzQ5CjB4YWUzOQoweDQ3ZDc1CjB4NTYwYTYKMHgyYjVhYwoweDYwZDMKMHg2NDc0OQoweDY0NzQ5CjB4YWUzOQoweDJiNWFjCjB4MTVjNDQKMHhhZTM5CjB4MmI1YWMKMHg2MGU1YwoweDRkYjdkCjB4MjVkY2MKMHg0YjMzZQoweDJiNWFjCjB4NWI2ZTAKMHg2MGQzCjB4MmI1YWMKMHhhZTM5CjB4M2MxNmQKMHg2MGQzCjB4M2MxNmQKMHg0ZjNhOQoweDRmM2E5CjB4M2MxNmQKMHg2NzFiZgoweDJiNWFjCjB4MTVjNDQKMHhhZTM5CjB4MmI1YWMKMHhhZTM5CjB4NDA2NDUKMHg2NDc0OQoweDJiNWFjCjB4MTVjNDQKMHgzNTgyYwoweDRmM2E5CjB4NWI2ZTAKMHgzYzE2ZAoweDRmM2E5CjB4YWUzOQoweDJiNWFjCjB4MTk3OTgKMHgxNWM0NAoweGFlMzkKMHg2NDc0OQoweDRiMzNlCjB4NDZhNWIKMHgyYjVhYwoweDYxMjhhCjB4NjQ3NDkKMHg0ZjNhOQoweDYwZDMKMHgzNTgyYwoweGMxNGEKMHgxNWM0NAoweDY2MjNkCjB4MmI1YWMKMHgyNWRjYwoweDJiNWFjCjB4NGRiN2QKMHg1GFM5\"\n",
    "        )\n",
    "        .decode(\"utf8\")\n",
    "        .split(\"\\n\")[:33]\n",
    "    ).encode(\"utf8\")\n",
    ")\n",
    "encry_msg"
   ]
  },
  {
   "cell_type": "code",
   "execution_count": 48,
   "metadata": {
    "ExecuteTime": {
     "end_time": "2021-01-04T09:37:06.683683Z",
     "start_time": "2021-01-04T09:37:00.181360Z"
    }
   },
   "outputs": [
    {
     "name": "stdout",
     "output_type": "stream",
     "text": [
      "[72, 101, 108, 108, 111, 32, 82, 105, 99, 104, 97, 101, 108, 46, 32, 76, 101, 116, 39, 115, 32, 109, 101, 101, 116, 32, 97, 116, 32, 54, 58, 50, 53]\n",
      "Hello Richael. Let's meet at 6:25\n"
     ]
    }
   ],
   "source": [
    "# RSA decode\n",
    "decry_msg = [\n",
    "    int(i, 16) ** private_key[1] % private_key[0]\n",
    "    for i in base64.b64decode(encry_msg).decode(\"utf8\").split(\"\\n\")\n",
    "]\n",
    "print(decry_msg)\n",
    "print(\"\".join([chr(i) for i in decry_msg]))"
   ]
  },
  {
   "cell_type": "markdown",
   "metadata": {},
   "source": [
    "### Two Way RSA\n",
    "\n",
    "Previously, we introduced only one-way RSA: everyone has Richael's **public** key. But Richael can also have others' **public** key, especially, the message sender Stephen's: "
   ]
  },
  {
   "cell_type": "code",
   "execution_count": 59,
   "metadata": {
    "ExecuteTime": {
     "end_time": "2021-01-04T09:47:58.085425Z",
     "start_time": "2021-01-04T09:47:58.053134Z"
    }
   },
   "outputs": [
    {
     "data": {
      "text/plain": [
       "((107221, 89657), (107221, 94929))"
      ]
     },
     "execution_count": 59,
     "metadata": {},
     "output_type": "execute_result"
    }
   ],
   "source": [
    "# Stephen generate his key pair\n",
    "p = random.choice(list(find_prime(1024)))\n",
    "q = random.choice(list(find_prime(1024)))\n",
    "assert check_prime(p)\n",
    "assert check_prime(q)\n",
    "n = p * q\n",
    "p, q, n, len(bin(n)), bin(n)\n",
    "\n",
    "# Euler number\n",
    "phi = (p - 1) * (q - 1)\n",
    "phi\n",
    "\n",
    "e = random.choice(find_prime(phi))\n",
    "assert check_prime(e)\n",
    "e\n",
    "\n",
    "k = modinv(e, phi)[0]\n",
    "k\n",
    "\n",
    "public_key_stephen, private_key_stephen = (n, e), (n, k)\n",
    "public_key_stephen, private_key_stephen"
   ]
  },
  {
   "cell_type": "markdown",
   "metadata": {},
   "source": [
    "### Hash\n",
    "\n",
    "Stephen will keep his **private** key to himself, but share the **public** key to his friends, including Richael. Before Stephen sends the message to Richael, he will also generate an **abstract** of the total message, e.g. with Hash:"
   ]
  },
  {
   "cell_type": "code",
   "execution_count": 67,
   "metadata": {
    "ExecuteTime": {
     "end_time": "2021-01-04T09:53:06.401393Z",
     "start_time": "2021-01-04T09:53:06.385720Z"
    }
   },
   "outputs": [
    {
     "data": {
      "text/plain": [
       "'22edc929d9211d1102f7af88b85ea472c9e64629074985cba94607526dff3029'"
      ]
     },
     "execution_count": 67,
     "metadata": {},
     "output_type": "execute_result"
    }
   ],
   "source": [
    "signature = sha256(b\"Hello Richael. Let's meet at 6:25 pm tomorrow at the airport Gate5, Terminal 2 --Stephen :)\").hexdigest()\n",
    "signature"
   ]
  },
  {
   "cell_type": "markdown",
   "metadata": {},
   "source": [
    "Now Stephen will encrypt this abstract with his **private** key:"
   ]
  },
  {
   "cell_type": "code",
   "execution_count": 72,
   "metadata": {
    "ExecuteTime": {
     "end_time": "2021-01-04T09:56:37.276891Z",
     "start_time": "2021-01-04T09:56:35.670834Z"
    }
   },
   "outputs": [
    {
     "data": {
      "text/plain": [
       "b'MHgxOTQxMAoweDE5NDEwCjB4MTRiYWIKMHg2MTZjCjB4ZGFhCjB4MTJkMmIKMHgxOTQxMAoweDEyZDJiCjB4NjE2YwoweDEyZDJiCjB4MTk0MTAKMHg2OGEzCjB4NjhhMwoweDYxNmMKMHg2OGEzCjB4NjhhMwoweDE1MTA5CjB4MTk0MTAKMHgxNGEyNAoweGU4MWYKMHgxNDIyOAoweDE0YTI0CjB4MTk2NmQKMHgxOTY2ZAoweGIyMGEKMHgxOTY2ZAoweDE2YzY5CjB4MTRiYWIKMHgxNDIyOAoweDExMjYyCjB4ZTgxZgoweDE5NDEwCjB4ZGFhCjB4MTJkMmIKMHgxNGJhYgoweDE5MTI5CjB4MTEyNjIKMHgxOTEyOQoweDE5NDEwCjB4MTJkMmIKMHgxNTEwOQoweGU4MWYKMHgxMTI2MgoweDEyZDJiCjB4MTk2NmQKMHgxNmM2OQoweGRhYQoweGIyMGEKMHgxNDIyOAoweDEyZDJiCjB4MTEyNjIKMHgxOTEyOQoweDE1MTA5CjB4ZTgxZgoweDE2YzY5CjB4MTk0MTAKMHgxOTEyOQoweDYxNmMKMHgxNGEyNAoweDE0YTI0CjB4MTk1YTkKMHgxNTEwOQoweDE5NDEwCjB4MTJkMmI='"
      ]
     },
     "execution_count": 72,
     "metadata": {},
     "output_type": "execute_result"
    }
   ],
   "source": [
    "# hex encode or something else\n",
    "encry_msg = \"\\n\".join(\n",
    "    [\n",
    "        hex((ord(val) ** private_key_stephen[1]) % private_key_stephen[0])\n",
    "        for val in signature\n",
    "    ]\n",
    ")\n",
    "\n",
    "# base64 encode\n",
    "encry_msg = base64.b64encode(encry_msg.encode(\"utf8\"))\n",
    "encry_msg"
   ]
  },
  {
   "cell_type": "markdown",
   "metadata": {},
   "source": [
    "Finally, the message ready to be shipped to Richael by Stephen becomes:"
   ]
  },
  {
   "cell_type": "code",
   "execution_count": 75,
   "metadata": {
    "ExecuteTime": {
     "end_time": "2021-01-04T09:59:42.566530Z",
     "start_time": "2021-01-04T09:59:42.545554Z"
    }
   },
   "outputs": [],
   "source": [
    "message_to_Richael = {\n",
    "    \"msg\": b\"MHgzMDJjZAoweDY0NzQ5CjB4NjYyM2QKMHg2NjIzZAoweDNjMTZkCjB4MmI1YWMKMHgzNjZjNgoweDM1ODJjCjB4MTQ4N2UKMHg0MDY0NQoweDE1YzQ0CjB4NjQ3NDkKMHg2NjIzZAoweDM4MWU3CjB4MmI1YWMKMHg0YjZhZAoweDY0NzQ5CjB4YWUzOQoweDQ3ZDc1CjB4NTYwYTYKMHgyYjVhYwoweDYwZDMKMHg2NDc0OQoweDY0NzQ5CjB4YWUzOQoweDJiNWFjCjB4MTVjNDQKMHhhZTM5CjB4MmI1YWMKMHg2MGU1YwoweDRkYjdkCjB4MjVkY2MKMHg0YjMzZQoweDJiNWFjCjB4NWI2ZTAKMHg2MGQzCjB4MmI1YWMKMHhhZTM5CjB4M2MxNmQKMHg2MGQzCjB4M2MxNmQKMHg0ZjNhOQoweDRmM2E5CjB4M2MxNmQKMHg2NzFiZgoweDJiNWFjCjB4MTVjNDQKMHhhZTM5CjB4MmI1YWMKMHhhZTM5CjB4NDA2NDUKMHg2NDc0OQoweDJiNWFjCjB4MTVjNDQKMHgzNTgyYwoweDRmM2E5CjB4NWI2ZTAKMHgzYzE2ZAoweDRmM2E5CjB4YWUzOQoweDJiNWFjCjB4MTk3OTgKMHgxNWM0NAoweGFlMzkKMHg2NDc0OQoweDRiMzNlCjB4NDZhNWIKMHgyYjVhYwoweDYxMjhhCjB4NjQ3NDkKMHg0ZjNhOQoweDYwZDMKMHgzNTgyYwoweGMxNGEKMHgxNWM0NAoweDY2MjNkCjB4MmI1YWMKMHgyNWRjYwoweDJiNWFjCjB4ZGMzCjB4ZGMzCjB4NWFmNTcKMHhhZTM5CjB4NjQ3NDkKMHg1YjZlMAoweDQwNjQ1CjB4NjQ3NDkKMHhjMTRhCjB4MmI1YWMKMHg0ZGI3ZAoweDlhMzk=\",\n",
    "    \"signature\": b\"MHgxOTQxMAoweDE5NDEwCjB4MTRiYWIKMHg2MTZjCjB4ZGFhCjB4MTJkMmIKMHgxOTQxMAoweDEyZDJiCjB4NjE2YwoweDEyZDJiCjB4MTk0MTAKMHg2OGEzCjB4NjhhMwoweDYxNmMKMHg2OGEzCjB4NjhhMwoweDE1MTA5CjB4MTk0MTAKMHgxNGEyNAoweGU4MWYKMHgxNDIyOAoweDE0YTI0CjB4MTk2NmQKMHgxOTY2ZAoweGIyMGEKMHgxOTY2ZAoweDE2YzY5CjB4MTRiYWIKMHgxNDIyOAoweDExMjYyCjB4ZTgxZgoweDE5NDEwCjB4ZGFhCjB4MTJkMmIKMHgxNGJhYgoweDE5MTI5CjB4MTEyNjIKMHgxOTEyOQoweDE5NDEwCjB4MTJkMmIKMHgxNTEwOQoweGU4MWYKMHgxMTI2MgoweDEyZDJiCjB4MTk2NmQKMHgxNmM2OQoweGRhYQoweGIyMGEKMHgxNDIyOAoweDEyZDJiCjB4MTEyNjIKMHgxOTEyOQoweDE1MTA5CjB4ZTgxZgoweDE2YzY5CjB4MTk0MTAKMHgxOTEyOQoweDYxNmMKMHgxNGEyNAoweDE0YTI0CjB4MTk1YTkKMHgxNTEwOQoweDE5NDEwCjB4MTJkMmI=\",\n",
    "}"
   ]
  },
  {
   "cell_type": "markdown",
   "metadata": {},
   "source": [
    "### Richael's Verification\n",
    "\n",
    "Now, what Richael will do is:\n",
    "- Use her own **private** key to decrypt **msg**\n",
    "- Use Stephen's **public** key to decrypt **signature**\n",
    "- SHA256 Hash the decrypted **msg** to reproduce the **signature**\n",
    "- Compare the 2 **signatures** and see if they match:\n",
    "    - if they do, the message is from Stephen and it is intact.\n",
    "    - if not, something dodgy happened."
   ]
  },
  {
   "cell_type": "code",
   "execution_count": 77,
   "metadata": {
    "ExecuteTime": {
     "end_time": "2021-01-04T10:06:39.757461Z",
     "start_time": "2021-01-04T10:06:20.524924Z"
    }
   },
   "outputs": [
    {
     "name": "stdout",
     "output_type": "stream",
     "text": [
      "Hello Richael. Let's meet at 6:25 pm tomorrow at the airport Gate5, Terminal 2 --Stephen :)\n"
     ]
    }
   ],
   "source": [
    "# RSA decode msg\n",
    "decry_msg = [\n",
    "    int(i, 16) ** private_key[1] % private_key[0]\n",
    "    for i in base64.b64decode(message_to_Richael[\"msg\"]).decode(\"utf8\").split(\"\\n\")\n",
    "]\n",
    "decry_msg = \"\".join([chr(i) for i in decry_msg])\n",
    "print(decry_msg)"
   ]
  },
  {
   "cell_type": "code",
   "execution_count": 78,
   "metadata": {
    "ExecuteTime": {
     "end_time": "2021-01-04T10:06:50.407929Z",
     "start_time": "2021-01-04T10:06:39.845666Z"
    }
   },
   "outputs": [
    {
     "name": "stdout",
     "output_type": "stream",
     "text": [
      "[50, 50, 101, 100, 99, 57, 50, 57, 100, 57, 50, 49, 49, 100, 49, 49, 48, 50, 102, 55, 97, 102, 56, 56, 98, 56, 53, 101, 97, 52, 55, 50, 99, 57, 101, 54, 52, 54, 50, 57, 48, 55, 52, 57, 56, 53, 99, 98, 97, 57, 52, 54, 48, 55, 53, 50, 54, 100, 102, 102, 51, 48, 50, 57]\n",
      "22edc929d9211d1102f7af88b85ea472c9e64629074985cba94607526dff3029\n"
     ]
    }
   ],
   "source": [
    "# RSA decode sig\n",
    "decry_sig = [\n",
    "    int(i, 16) ** public_key_stephen[1] % public_key_stephen[0]\n",
    "    for i in base64.b64decode(message_to_Richael[\"signature\"]).decode(\"utf8\").split(\"\\n\")\n",
    "]\n",
    "print(decry_sig)\n",
    "print(\"\".join([chr(i) for i in decry_sig]))"
   ]
  },
  {
   "cell_type": "code",
   "execution_count": 82,
   "metadata": {
    "ExecuteTime": {
     "end_time": "2021-01-04T10:08:48.822423Z",
     "start_time": "2021-01-04T10:08:48.815678Z"
    }
   },
   "outputs": [
    {
     "data": {
      "text/plain": [
       "True"
      ]
     },
     "execution_count": 82,
     "metadata": {},
     "output_type": "execute_result"
    }
   ],
   "source": [
    "# Compare Digital Signature\n",
    "sha256(\n",
    "    b\"Hello Richael. Let's meet at 6:25 pm tomorrow at the airport Gate5, Terminal 2 --Stephen :)\"\n",
    ").hexdigest() == \"\".join([chr(i) for i in decry_sig])"
   ]
  },
  {
   "cell_type": "code",
   "execution_count": 92,
   "metadata": {
    "ExecuteTime": {
     "end_time": "2021-01-04T10:18:05.726666Z",
     "start_time": "2021-01-04T10:18:05.706102Z"
    }
   },
   "outputs": [
    {
     "ename": "AssertionError",
     "evalue": "[Attention]: Dodgy thing happened with this message!",
     "output_type": "error",
     "traceback": [
      "\u001b[0;31m---------------------------------------------------------------------------\u001b[0m",
      "\u001b[0;31mAssertionError\u001b[0m                            Traceback (most recent call last)",
      "\u001b[0;32m<ipython-input-92-91feb090d645>\u001b[0m in \u001b[0;36m<module>\u001b[0;34m\u001b[0m\n\u001b[1;32m      1\u001b[0m assert sha256(b\"Hello Richael. Let's meet at 6:25\").hexdigest() == \"\".join(\n\u001b[1;32m      2\u001b[0m     \u001b[0;34m[\u001b[0m\u001b[0mchr\u001b[0m\u001b[0;34m(\u001b[0m\u001b[0mi\u001b[0m\u001b[0;34m)\u001b[0m \u001b[0;32mfor\u001b[0m \u001b[0mi\u001b[0m \u001b[0;32min\u001b[0m \u001b[0mdecry_sig\u001b[0m\u001b[0;34m]\u001b[0m\u001b[0;34m\u001b[0m\u001b[0;34m\u001b[0m\u001b[0m\n\u001b[0;32m----> 3\u001b[0;31m ), \"[Attention]: Dodgy thing happened with this message!\"\n\u001b[0m",
      "\u001b[0;31mAssertionError\u001b[0m: [Attention]: Dodgy thing happened with this message!"
     ]
    }
   ],
   "source": [
    "assert sha256(b\"Hello Richael. Let's meet at 6:25\").hexdigest() == \"\".join(\n",
    "    [chr(i) for i in decry_sig]\n",
    "), \"[Attention]: Dodgy thing happened with this message!\""
   ]
  },
  {
   "cell_type": "markdown",
   "metadata": {},
   "source": [
    "For Joseph, he can also have Stephen's **public key**, intercept and decrypt the signature. However, if now he wants to alter the message (\"random\" stuff) without being found out, he must alter the Hash (\"22edc929d9211d1102f7af88b85ea472c9e64629074985cba94607526dff3029\") as well and **make sure they match**. Without decrypting the original message, it is infeasible to generated its Hash. Therefore Joseph has 2 options: alter the message and being found out, or leave message as is."
   ]
  },
  {
   "cell_type": "markdown",
   "metadata": {},
   "source": [
    "## Digital Signature\n",
    "\n",
    "There are 2 problems with the encryption and decryption process described above:  \n",
    "\n",
    "1. What if Joseph pretends to be Stephen, and sends her another message encrypted with Richaels **public key**, saying \"Hello Richael. Let's meet at 6:25 am the day after tomorrow at the train station Gate 1 :)\". How does Richael know the message is truly from Stephen, or being altered by Joseph.\n",
    "\n",
    "*Answer*: this is solved by Digital Signature\n",
    "\n",
    "2. Joseph could totally generate his own key pair and pretend to be Richael. When Richael's friends receive \"her\" **public key**, how do they know it truly comes from Richael, rather than Joseph?\n",
    "\n",
    "*Answer*: this is solved by Certificate"
   ]
  },
  {
   "cell_type": "code",
   "execution_count": null,
   "metadata": {},
   "outputs": [],
   "source": []
  },
  {
   "cell_type": "code",
   "execution_count": null,
   "metadata": {},
   "outputs": [],
   "source": []
  },
  {
   "cell_type": "markdown",
   "metadata": {},
   "source": [
    "## Reference\n",
    "\n",
    "- https://blog.vrypan.net/2013/08/28/public-key-cryptography-for-non-geeks/\n",
    "- https://www.ruanyifeng.com/blog/2013/06/rsa_algorithm_part_one.html\n",
    "- https://us-cert.cisa.gov/ncas/tips/ST04-018#:~:text=Digital%20signatures%20work%20by%20proving,using%20the%20sender's%20private%20key."
   ]
  }
 ],
 "metadata": {
  "kernelspec": {
   "display_name": "mlmax",
   "language": "python",
   "name": "mlmax"
  },
  "language_info": {
   "codemirror_mode": {
    "name": "ipython",
    "version": 3
   },
   "file_extension": ".py",
   "mimetype": "text/x-python",
   "name": "python",
   "nbconvert_exporter": "python",
   "pygments_lexer": "ipython3",
   "version": "3.6.10"
  },
  "latex_envs": {
   "LaTeX_envs_menu_present": true,
   "autoclose": false,
   "autocomplete": true,
   "bibliofile": "biblio.bib",
   "cite_by": "apalike",
   "current_citInitial": 1,
   "eqLabelWithNumbers": true,
   "eqNumInitial": 1,
   "hotkeys": {
    "equation": "Ctrl-E",
    "itemize": "Ctrl-I"
   },
   "labels_anchors": false,
   "latex_user_defs": false,
   "report_style_numbering": false,
   "user_envs_cfg": false
  }
 },
 "nbformat": 4,
 "nbformat_minor": 4
}
