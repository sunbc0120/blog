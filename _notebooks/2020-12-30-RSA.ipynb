{
 "cells": [
  {
   "cell_type": "markdown",
   "metadata": {},
   "source": [
    "# Python Implementation of RSA, Digital Signature and Certificates\n",
    "> Implementation of RSA, Digital Signature and Certificates without divining too deep into the Mathematics; then list out key math principles for further reference. In this way, one can understand *what* and *how* as a context before drilling into *why*.\n",
    "\n",
    "- toc: true\n",
    "- branch: master\n",
    "- badges: false\n",
    "- comments: true\n",
    "- categories: [jupyter, python, math]\n",
    "- hide: false\n",
    "- search_exclude: true\n",
    "- metadata_key1: metadata_value1\n",
    "- metadata_key2: metadata_value2"
   ]
  },
  {
   "cell_type": "markdown",
   "metadata": {},
   "source": [
    "## Introduction\n",
    "\n",
    "Information is power. However, to transmit info is tricky. At least 2 issues need to be solved in information transmission: **Security** and **Integrity**.\n",
    "\n",
    "- **Security (RSA)**\n",
    "\n",
    "No one can see the naked message other than the one intended.\n",
    "\n",
    "- **Integrity (Digital Signature)**\n",
    "\n",
    "No one shall replace the message with another dummy one in the middle of transimission;  \n",
    "If it happened, however, intended message receiver shall be able to find out."
   ]
  },
  {
   "cell_type": "markdown",
   "metadata": {},
   "source": [
    "## Rivest, Shamir and Adleman (RSA) Cryptosystem\n",
    "\n",
    "![rsa](rsa_imgs/bg2013062702.jpg)\n",
    "@MIT"
   ]
  },
  {
   "cell_type": "markdown",
   "metadata": {},
   "source": [
    "### Helper Functions"
   ]
  },
  {
   "cell_type": "code",
   "execution_count": 1,
   "metadata": {
    "ExecuteTime": {
     "end_time": "2021-01-04T11:58:00.823578Z",
     "start_time": "2021-01-04T11:58:00.820751Z"
    }
   },
   "outputs": [],
   "source": [
    "#collapse-hide\n",
    "import random\n",
    "import base64\n",
    "from hashlib import sha256"
   ]
  },
  {
   "cell_type": "markdown",
   "metadata": {},
   "source": [
    "#### Check If a Number is Prime"
   ]
  },
  {
   "cell_type": "code",
   "execution_count": 2,
   "metadata": {
    "ExecuteTime": {
     "end_time": "2021-01-04T11:58:00.836204Z",
     "start_time": "2021-01-04T11:58:00.831728Z"
    }
   },
   "outputs": [],
   "source": [
    "#collapse-show\n",
    "def check_prime(num):\n",
    "    \"\"\"Check if num is prime\n",
    "    \n",
    "    \"\"\"\n",
    "    # prime numbers are greater than 1\n",
    "    if num > 1:\n",
    "        # check for factors\n",
    "        # TODO: refactoring to parallel\n",
    "        for i in range(2, num):\n",
    "            if (num % i) == 0:\n",
    "                return False\n",
    "        else:\n",
    "            return True\n",
    "    # if input number is less than\n",
    "    # or equal to 1, it is not prime\n",
    "    else:\n",
    "        return False"
   ]
  },
  {
   "cell_type": "markdown",
   "metadata": {},
   "source": [
    "#### Modular Multiplicative Inverse Function"
   ]
  },
  {
   "cell_type": "code",
   "execution_count": 3,
   "metadata": {
    "ExecuteTime": {
     "end_time": "2021-01-04T11:58:00.847726Z",
     "start_time": "2021-01-04T11:58:00.842636Z"
    }
   },
   "outputs": [],
   "source": [
    "#collapse-show\n",
    "# https://stackoverflow.com/a/9758173/3317548\n",
    "def egcd(a, b):\n",
    "    if a == 0:\n",
    "        return (b, 0, 1)\n",
    "    else:\n",
    "        g, y, x = egcd(b % a, a)\n",
    "        return (g, x - (b // a) * y, y)\n",
    "\n",
    "\n",
    "def modinv(a, m):\n",
    "    g, x, y = egcd(a, m)\n",
    "    if g != 1:\n",
    "        raise Exception(\"modular inverse does not exist\")\n",
    "    else:\n",
    "        aa = x % m\n",
    "        bb = int((1 - a * aa) / m)\n",
    "        return aa, bb"
   ]
  },
  {
   "cell_type": "markdown",
   "metadata": {},
   "source": [
    "#### List All Prime Numbers Smaller Than a Value"
   ]
  },
  {
   "cell_type": "code",
   "execution_count": 4,
   "metadata": {
    "ExecuteTime": {
     "end_time": "2021-01-04T11:58:00.863842Z",
     "start_time": "2021-01-04T11:58:00.857102Z"
    }
   },
   "outputs": [],
   "source": [
    "#collapse-show\n",
    "# https://stackoverflow.com/q/2068372/3317548\n",
    "def find_prime(n):\n",
    "    \"\"\" Returns  a list of primes < n \"\"\"\n",
    "    sieve = [True] * (n // 2)\n",
    "    for i in range(3, int(n ** 0.5) + 1, 2):\n",
    "        if sieve[i // 2]:\n",
    "            sieve[i * i // 2 :: i] = [False] * ((n - i * i - 1) // (2 * i) + 1)\n",
    "    return [2] + [2 * i + 1 for i in range(1, n // 2) if sieve[i]]"
   ]
  },
  {
   "cell_type": "markdown",
   "metadata": {},
   "source": [
    "###  Encryption & Decryption Process\n",
    "\n",
    "- Receiver (Richael) generate a pair of keys: **public** & **private**\n",
    "- She keeps **private** key to herself confidentially\n",
    "- She sends multiple copies of **public** key to every of her friends who need to send her message\n",
    "- Any one got Richael's **public** key can send her message now. For instance, Stephen:  \n",
    "    - Stephen'd like to send the original message: \"Hello Richael. Let's meet at 6:25 pm tomorrow at the airport Gate5, Terminal 2 :)\", to Richael.\n",
    "    - Stephen'd encrypt the message with Richaels **public** key into something looks random, e.g.  \"MHgxNTMzCjB4MmFmNgoweGFiOA...YWE0CjB4MWZlMwoweDIzMGY=\"\n",
    "    - Stephen'd send that \"random\" stuff to Richael.\n",
    "- After receiving the \"random\" stuff from Stephen, Richael uses her own **private** key to decrypt it into orignal message \"Hello Richael. How are you?!\"\n",
    "- Only with Richael's **private** key, the \"random\" stuff, produced with Richael's **public** key, can be decrpted. Unless Richael shares her **private** key, which she shall never do, no one other than Richael herself can obtain the original message \"Hello Richael. Let's meet at 6:25 pm tomorrow at the airport Gate5, Terminal 2 :)\"\n",
    "- If Richael'd like to answer to Stephen, she must obtain Stephen's **public** key."
   ]
  },
  {
   "cell_type": "markdown",
   "metadata": {},
   "source": [
    "#### Key Pair: Public & Private (Richael's Task)\n",
    "\n",
    "- Randomly pick 2 prime numbers (larger the better): **p** & **q** \n",
    "- Got their muliplication: **n=pxq**\n",
    "- Got the Euler number: **phi=(p-1)x(q-1)**\n",
    "- Randomly find a prime number in the range of 1 to **phi** (larger the better): **e**\n",
    "- Find the Modular Multiplicative Inverse of **e** relative to **phi**: **k**\n",
    "- public key is: **(n, e)**\n",
    "- private key is: **(n, k)**"
   ]
  },
  {
   "cell_type": "code",
   "execution_count": 5,
   "metadata": {
    "ExecuteTime": {
     "end_time": "2021-01-04T11:58:00.887731Z",
     "start_time": "2021-01-04T11:58:00.875739Z"
    }
   },
   "outputs": [
    {
     "data": {
      "text/plain": [
       "(941, 277, 260657, 20, '0b111111101000110001')"
      ]
     },
     "execution_count": 5,
     "metadata": {},
     "output_type": "execute_result"
    }
   ],
   "source": [
    "# prime numbers\n",
    "p = random.choice(list(find_prime(1024)))\n",
    "q = random.choice(list(find_prime(1024)))\n",
    "assert check_prime(p)\n",
    "assert check_prime(q)\n",
    "n = p * q\n",
    "p, q, n, len(bin(n)), bin(n)"
   ]
  },
  {
   "cell_type": "code",
   "execution_count": 6,
   "metadata": {
    "ExecuteTime": {
     "end_time": "2021-01-04T11:58:00.896053Z",
     "start_time": "2021-01-04T11:58:00.891721Z"
    }
   },
   "outputs": [
    {
     "data": {
      "text/plain": [
       "259440"
      ]
     },
     "execution_count": 6,
     "metadata": {},
     "output_type": "execute_result"
    }
   ],
   "source": [
    "# Euler number\n",
    "phi = (p - 1) * (q - 1)\n",
    "phi"
   ]
  },
  {
   "cell_type": "code",
   "execution_count": 7,
   "metadata": {
    "ExecuteTime": {
     "end_time": "2021-01-04T11:58:00.924311Z",
     "start_time": "2021-01-04T11:58:00.898884Z"
    }
   },
   "outputs": [
    {
     "data": {
      "text/plain": [
       "96211"
      ]
     },
     "execution_count": 7,
     "metadata": {},
     "output_type": "execute_result"
    }
   ],
   "source": [
    "e = random.choice(find_prime(phi))\n",
    "assert check_prime(e)\n",
    "e"
   ]
  },
  {
   "cell_type": "code",
   "execution_count": 8,
   "metadata": {
    "ExecuteTime": {
     "end_time": "2021-01-04T11:58:00.932457Z",
     "start_time": "2021-01-04T11:58:00.927217Z"
    }
   },
   "outputs": [
    {
     "data": {
      "text/plain": [
       "32971"
      ]
     },
     "execution_count": 8,
     "metadata": {},
     "output_type": "execute_result"
    }
   ],
   "source": [
    "k = modinv(e, phi)[0]\n",
    "k"
   ]
  },
  {
   "cell_type": "code",
   "execution_count": 9,
   "metadata": {
    "ExecuteTime": {
     "end_time": "2021-01-04T11:58:00.940174Z",
     "start_time": "2021-01-04T11:58:00.935153Z"
    }
   },
   "outputs": [
    {
     "data": {
      "text/plain": [
       "((260657, 96211), (260657, 32971))"
      ]
     },
     "execution_count": 9,
     "metadata": {},
     "output_type": "execute_result"
    }
   ],
   "source": [
    "public_key, private_key = (n, e), (n, k)\n",
    "public_key, private_key"
   ]
  },
  {
   "cell_type": "markdown",
   "metadata": {},
   "source": [
    "#### Encryption & Decryption Computation\n",
    "\n",
    "- Original message to unicode numbers: **msg**\n",
    "- Encrypt message: **msg_encrypt = (msg^e)%n**\n",
    "- Decrypt message: **msg = (msg_encrypt^k)%n**"
   ]
  },
  {
   "cell_type": "markdown",
   "metadata": {},
   "source": [
    "#### Origial Message (Stephen's Task)"
   ]
  },
  {
   "cell_type": "code",
   "execution_count": 10,
   "metadata": {
    "ExecuteTime": {
     "end_time": "2021-01-04T11:58:00.947048Z",
     "start_time": "2021-01-04T11:58:00.942042Z"
    },
    "scrolled": true
   },
   "outputs": [
    {
     "data": {
      "text/plain": [
       "[72,\n",
       " 101,\n",
       " 108,\n",
       " 108,\n",
       " 111,\n",
       " 32,\n",
       " 82,\n",
       " 105,\n",
       " 99,\n",
       " 104,\n",
       " 97,\n",
       " 101,\n",
       " 108,\n",
       " 46,\n",
       " 32,\n",
       " 76,\n",
       " 101,\n",
       " 116,\n",
       " 39,\n",
       " 115,\n",
       " 32,\n",
       " 109,\n",
       " 101,\n",
       " 101,\n",
       " 116,\n",
       " 32,\n",
       " 97,\n",
       " 116,\n",
       " 32,\n",
       " 54,\n",
       " 58,\n",
       " 50,\n",
       " 53,\n",
       " 32,\n",
       " 112,\n",
       " 109,\n",
       " 32,\n",
       " 116,\n",
       " 111,\n",
       " 109,\n",
       " 111,\n",
       " 114,\n",
       " 114,\n",
       " 111,\n",
       " 119,\n",
       " 32,\n",
       " 97,\n",
       " 116,\n",
       " 32,\n",
       " 116,\n",
       " 104,\n",
       " 101,\n",
       " 32,\n",
       " 97,\n",
       " 105,\n",
       " 114,\n",
       " 112,\n",
       " 111,\n",
       " 114,\n",
       " 116,\n",
       " 32,\n",
       " 71,\n",
       " 97,\n",
       " 116,\n",
       " 101,\n",
       " 53,\n",
       " 44,\n",
       " 32,\n",
       " 84,\n",
       " 101,\n",
       " 114,\n",
       " 109,\n",
       " 105,\n",
       " 110,\n",
       " 97,\n",
       " 108,\n",
       " 32,\n",
       " 50,\n",
       " 32,\n",
       " 45,\n",
       " 45,\n",
       " 83,\n",
       " 116,\n",
       " 101,\n",
       " 112,\n",
       " 104,\n",
       " 101,\n",
       " 110,\n",
       " 32,\n",
       " 58,\n",
       " 41]"
      ]
     },
     "execution_count": 10,
     "metadata": {},
     "output_type": "execute_result"
    }
   ],
   "source": [
    "#collapse-output\n",
    "# unicode\n",
    "msg = [ord(i) for i in \"Hello Richael. Let's meet at 6:25 pm tomorrow at the airport Gate5, Terminal 2 --Stephen :)\"]\n",
    "msg"
   ]
  },
  {
   "cell_type": "markdown",
   "metadata": {},
   "source": [
    "#### Encrption (Stephen's Task)"
   ]
  },
  {
   "cell_type": "code",
   "execution_count": 11,
   "metadata": {
    "ExecuteTime": {
     "end_time": "2021-01-04T11:58:02.190174Z",
     "start_time": "2021-01-04T11:58:00.949372Z"
    }
   },
   "outputs": [
    {
     "data": {
      "text/plain": [
       "[194726,\n",
       " 73146,\n",
       " 72544,\n",
       " 72544,\n",
       " 9248,\n",
       " 92741,\n",
       " 238646,\n",
       " 85607,\n",
       " 200450,\n",
       " 48424,\n",
       " 239858,\n",
       " 73146,\n",
       " 72544,\n",
       " 91511,\n",
       " 92741,\n",
       " 212777,\n",
       " 73146,\n",
       " 65211,\n",
       " 109261,\n",
       " 61397,\n",
       " 92741,\n",
       " 74651,\n",
       " 73146,\n",
       " 73146,\n",
       " 65211,\n",
       " 92741,\n",
       " 239858,\n",
       " 65211,\n",
       " 92741,\n",
       " 78010,\n",
       " 231217,\n",
       " 128639,\n",
       " 171443,\n",
       " 92741,\n",
       " 222131,\n",
       " 74651,\n",
       " 92741,\n",
       " 65211,\n",
       " 9248,\n",
       " 74651,\n",
       " 9248,\n",
       " 236804,\n",
       " 236804,\n",
       " 9248,\n",
       " 164721,\n",
       " 92741,\n",
       " 239858,\n",
       " 65211,\n",
       " 92741,\n",
       " 65211,\n",
       " 48424,\n",
       " 73146,\n",
       " 92741,\n",
       " 239858,\n",
       " 85607,\n",
       " 236804,\n",
       " 222131,\n",
       " 9248,\n",
       " 236804,\n",
       " 65211,\n",
       " 92741,\n",
       " 154298,\n",
       " 239858,\n",
       " 65211,\n",
       " 73146,\n",
       " 171443,\n",
       " 243311,\n",
       " 92741,\n",
       " 38634,\n",
       " 73146,\n",
       " 236804,\n",
       " 74651,\n",
       " 85607,\n",
       " 230237,\n",
       " 239858,\n",
       " 72544,\n",
       " 92741,\n",
       " 128639,\n",
       " 92741,\n",
       " 95148,\n",
       " 95148,\n",
       " 37338,\n",
       " 65211,\n",
       " 73146,\n",
       " 222131,\n",
       " 48424,\n",
       " 73146,\n",
       " 230237,\n",
       " 92741,\n",
       " 231217,\n",
       " 92222]"
      ]
     },
     "execution_count": 11,
     "metadata": {},
     "output_type": "execute_result"
    }
   ],
   "source": [
    "#collapse-output\n",
    "# encrption\n",
    "[(val ** public_key[1]) % public_key[0] for val in msg]"
   ]
  },
  {
   "cell_type": "code",
   "execution_count": 12,
   "metadata": {
    "ExecuteTime": {
     "end_time": "2021-01-04T11:58:03.318618Z",
     "start_time": "2021-01-04T11:58:02.191689Z"
    }
   },
   "outputs": [
    {
     "data": {
      "text/plain": [
       "'0x2f8a6\\n0x11dba\\n0x11b60\\n0x11b60\\n0x2420\\n0x16a45\\n0x3a436\\n0x14e67\\n0x30f02\\n0xbd28\\n0x3a8f2\\n0x11dba\\n0x11b60\\n0x16577\\n0x16a45\\n0x33f29\\n0x11dba\\n0xfebb\\n0x1aacd\\n0xefd5\\n0x16a45\\n0x1239b\\n0x11dba\\n0x11dba\\n0xfebb\\n0x16a45\\n0x3a8f2\\n0xfebb\\n0x16a45\\n0x130ba\\n0x38731\\n0x1f67f\\n0x29db3\\n0x16a45\\n0x363b3\\n0x1239b\\n0x16a45\\n0xfebb\\n0x2420\\n0x1239b\\n0x2420\\n0x39d04\\n0x39d04\\n0x2420\\n0x28371\\n0x16a45\\n0x3a8f2\\n0xfebb\\n0x16a45\\n0xfebb\\n0xbd28\\n0x11dba\\n0x16a45\\n0x3a8f2\\n0x14e67\\n0x39d04\\n0x363b3\\n0x2420\\n0x39d04\\n0xfebb\\n0x16a45\\n0x25aba\\n0x3a8f2\\n0xfebb\\n0x11dba\\n0x29db3\\n0x3b66f\\n0x16a45\\n0x96ea\\n0x11dba\\n0x39d04\\n0x1239b\\n0x14e67\\n0x3835d\\n0x3a8f2\\n0x11b60\\n0x16a45\\n0x1f67f\\n0x16a45\\n0x173ac\\n0x173ac\\n0x91da\\n0xfebb\\n0x11dba\\n0x363b3\\n0xbd28\\n0x11dba\\n0x3835d\\n0x16a45\\n0x38731\\n0x1683e'"
      ]
     },
     "execution_count": 12,
     "metadata": {},
     "output_type": "execute_result"
    }
   ],
   "source": [
    "# hex encode or something else\n",
    "encry_msg = '\\n'.join([hex((val ** public_key[1]) % public_key[0]) for val in msg])\n",
    "encry_msg"
   ]
  },
  {
   "cell_type": "code",
   "execution_count": 13,
   "metadata": {
    "ExecuteTime": {
     "end_time": "2021-01-04T11:58:03.326705Z",
     "start_time": "2021-01-04T11:58:03.320440Z"
    }
   },
   "outputs": [
    {
     "data": {
      "text/plain": [
       "b'MHgyZjhhNgoweDExZGJhCjB4MTFiNjAKMHgxMWI2MAoweDI0MjAKMHgxNmE0NQoweDNhNDM2CjB4MTRlNjcKMHgzMGYwMgoweGJkMjgKMHgzYThmMgoweDExZGJhCjB4MTFiNjAKMHgxNjU3NwoweDE2YTQ1CjB4MzNmMjkKMHgxMWRiYQoweGZlYmIKMHgxYWFjZAoweGVmZDUKMHgxNmE0NQoweDEyMzliCjB4MTFkYmEKMHgxMWRiYQoweGZlYmIKMHgxNmE0NQoweDNhOGYyCjB4ZmViYgoweDE2YTQ1CjB4MTMwYmEKMHgzODczMQoweDFmNjdmCjB4MjlkYjMKMHgxNmE0NQoweDM2M2IzCjB4MTIzOWIKMHgxNmE0NQoweGZlYmIKMHgyNDIwCjB4MTIzOWIKMHgyNDIwCjB4MzlkMDQKMHgzOWQwNAoweDI0MjAKMHgyODM3MQoweDE2YTQ1CjB4M2E4ZjIKMHhmZWJiCjB4MTZhNDUKMHhmZWJiCjB4YmQyOAoweDExZGJhCjB4MTZhNDUKMHgzYThmMgoweDE0ZTY3CjB4MzlkMDQKMHgzNjNiMwoweDI0MjAKMHgzOWQwNAoweGZlYmIKMHgxNmE0NQoweDI1YWJhCjB4M2E4ZjIKMHhmZWJiCjB4MTFkYmEKMHgyOWRiMwoweDNiNjZmCjB4MTZhNDUKMHg5NmVhCjB4MTFkYmEKMHgzOWQwNAoweDEyMzliCjB4MTRlNjcKMHgzODM1ZAoweDNhOGYyCjB4MTFiNjAKMHgxNmE0NQoweDFmNjdmCjB4MTZhNDUKMHgxNzNhYwoweDE3M2FjCjB4OTFkYQoweGZlYmIKMHgxMWRiYQoweDM2M2IzCjB4YmQyOAoweDExZGJhCjB4MzgzNWQKMHgxNmE0NQoweDM4NzMxCjB4MTY4M2U='"
      ]
     },
     "execution_count": 13,
     "metadata": {},
     "output_type": "execute_result"
    }
   ],
   "source": [
    "# base64 encode\n",
    "encry_msg = base64.b64encode(encry_msg.encode('utf8'))\n",
    "encry_msg"
   ]
  },
  {
   "cell_type": "markdown",
   "metadata": {},
   "source": [
    "#### Decryption (Richael's Task)"
   ]
  },
  {
   "cell_type": "code",
   "execution_count": 14,
   "metadata": {
    "ExecuteTime": {
     "end_time": "2021-01-04T11:58:03.338646Z",
     "start_time": "2021-01-04T11:58:03.328929Z"
    },
    "scrolled": false
   },
   "outputs": [
    {
     "data": {
      "text/plain": [
       "[194726,\n",
       " 73146,\n",
       " 72544,\n",
       " 72544,\n",
       " 9248,\n",
       " 92741,\n",
       " 238646,\n",
       " 85607,\n",
       " 200450,\n",
       " 48424,\n",
       " 239858,\n",
       " 73146,\n",
       " 72544,\n",
       " 91511,\n",
       " 92741,\n",
       " 212777,\n",
       " 73146,\n",
       " 65211,\n",
       " 109261,\n",
       " 61397,\n",
       " 92741,\n",
       " 74651,\n",
       " 73146,\n",
       " 73146,\n",
       " 65211,\n",
       " 92741,\n",
       " 239858,\n",
       " 65211,\n",
       " 92741,\n",
       " 78010,\n",
       " 231217,\n",
       " 128639,\n",
       " 171443,\n",
       " 92741,\n",
       " 222131,\n",
       " 74651,\n",
       " 92741,\n",
       " 65211,\n",
       " 9248,\n",
       " 74651,\n",
       " 9248,\n",
       " 236804,\n",
       " 236804,\n",
       " 9248,\n",
       " 164721,\n",
       " 92741,\n",
       " 239858,\n",
       " 65211,\n",
       " 92741,\n",
       " 65211,\n",
       " 48424,\n",
       " 73146,\n",
       " 92741,\n",
       " 239858,\n",
       " 85607,\n",
       " 236804,\n",
       " 222131,\n",
       " 9248,\n",
       " 236804,\n",
       " 65211,\n",
       " 92741,\n",
       " 154298,\n",
       " 239858,\n",
       " 65211,\n",
       " 73146,\n",
       " 171443,\n",
       " 243311,\n",
       " 92741,\n",
       " 38634,\n",
       " 73146,\n",
       " 236804,\n",
       " 74651,\n",
       " 85607,\n",
       " 230237,\n",
       " 239858,\n",
       " 72544,\n",
       " 92741,\n",
       " 128639,\n",
       " 92741,\n",
       " 95148,\n",
       " 95148,\n",
       " 37338,\n",
       " 65211,\n",
       " 73146,\n",
       " 222131,\n",
       " 48424,\n",
       " 73146,\n",
       " 230237,\n",
       " 92741,\n",
       " 231217,\n",
       " 92222]"
      ]
     },
     "execution_count": 14,
     "metadata": {},
     "output_type": "execute_result"
    }
   ],
   "source": [
    "#collapse-output\n",
    "# base64 decode and hex decode\n",
    "[int(i, 16) for i in base64.b64decode(encry_msg).decode('utf8').split('\\n')]"
   ]
  },
  {
   "cell_type": "code",
   "execution_count": 15,
   "metadata": {
    "ExecuteTime": {
     "end_time": "2021-01-04T11:58:04.482118Z",
     "start_time": "2021-01-04T11:58:03.340977Z"
    }
   },
   "outputs": [
    {
     "name": "stdout",
     "output_type": "stream",
     "text": [
      "[72, 101, 108, 108, 111, 32, 82, 105, 99, 104, 97, 101, 108, 46, 32, 76, 101, 116, 39, 115, 32, 109, 101, 101, 116, 32, 97, 116, 32, 54, 58, 50, 53, 32, 112, 109, 32, 116, 111, 109, 111, 114, 114, 111, 119, 32, 97, 116, 32, 116, 104, 101, 32, 97, 105, 114, 112, 111, 114, 116, 32, 71, 97, 116, 101, 53, 44, 32, 84, 101, 114, 109, 105, 110, 97, 108, 32, 50, 32, 45, 45, 83, 116, 101, 112, 104, 101, 110, 32, 58, 41]\n",
      "Hello Richael. Let's meet at 6:25 pm tomorrow at the airport Gate5, Terminal 2 --Stephen :)\n"
     ]
    }
   ],
   "source": [
    "# RSA decode\n",
    "decry_msg = [\n",
    "    int(i, 16) ** private_key[1] % private_key[0]\n",
    "    for i in base64.b64decode(encry_msg).decode(\"utf8\").split(\"\\n\")\n",
    "]\n",
    "print(decry_msg)\n",
    "print(\"\".join([chr(i) for i in decry_msg]))"
   ]
  },
  {
   "cell_type": "markdown",
   "metadata": {},
   "source": [
    "### Why is this secure?\n",
    "\n",
    "![Euler](rsa_imgs/euler.png)\n",
    "@Euler  \n",
    "*He changed the world and he is now everywhere; Remeber Euler and everything about him, otherwise you'd fail at some stage of your life, some math exams for sure.*\n",
    "\n",
    "- If another friend of Richael, say Tom, would like to know what Stephen sent to Richael, without asking Stephen or Richael.\n",
    "- Another guy, say Joseph, was eavesdropping the network communication.\n",
    "- Either Tom or Joseph would already have access to information of: \n",
    "    - **n** and **e** from public key because Richael broadcast it on the network to her friends.\n",
    "    - **msg_encrypt** because Stephen put it on the network for Richael to retrieve.\n",
    "- In order to decrypt **msg_encrypt**, they need **private key** **(n, k)**;\n",
    "- They already have **n** so only need to figure out **k**.\n",
    "- **k** was generated with **e** and **phi**.\n",
    "- They know **e**. So they only need to know *phi*. \n",
    "- They need **p** and **q** to know **phi**\n",
    "- They know **n** which is the multiplication of prime numbers **p** and **q**\n",
    "- Tom or Joseph need to do **Prime Factorization** as **n=pxq**\n",
    "- Given **n** is large enough (1024 bits in nowadays common sense), Tom and Joseph would had been long gone before a modern computer, even they have access to [Fugaku](https://en.wikipedia.org/wiki/TOP500), could manage to figure out which 2 prime numebrs Richael picked at the first place, let along about by \"6:25 pm tomrrow\".\n",
    "- Richael may choose to update her key pairs frequently (change to different **p** and **q**) for the next message; this means Tom and Joseph can never catch up without a [Quantum Computer](https://www.newscientist.com/article/2227387-quantum-computer-sets-new-record-for-finding-prime-number-factors/) on their hands."
   ]
  },
  {
   "cell_type": "markdown",
   "metadata": {},
   "source": [
    "### Investigate and Understand Your Computer\n",
    "\n",
    "Now if go to `~/.ssh`, you shall identify a number of different key files. Some of them are private key whilst others are public key; some are generated by OpenSSH whilst others by OpenSSL. They are also encoded by ASN.1 format among some variates.\n",
    "\n",
    "- You can convert it into `*.PEM` file via:  \n",
    "\n",
    "`ssh-keygen -f YOUR_KEY.pub -e -m pem > YOUR_KEY.pub.pem`\n",
    "\n",
    "- Then inspect the content via:\n",
    "\n",
    "```python\n",
    "from Crypto.PublicKey import RSA\n",
    "from base64 import b64decode\n",
    "\n",
    "pem_key = b\"MII<DO NOT SHARE PRIVATE KEY>=\"\n",
    "key = b64decode(pem_key)\n",
    "keyPriv = RSA.importKey(key)\n",
    "# key now has all the components of the private\n",
    "print(keyPriv.keydata)\n",
    "print(keyPriv.n, keyPriv.e, keyPriv.d, keyPriv.p, keyPriv.q, keyPriv.u)\n",
    "\n",
    "assert keyPriv.p * keyPriv.q == keyPriv.n\n",
    "```\n",
    "\n",
    "For public key `*.pub.pem`, it has only `keyPriv.n` and `keyPriv.e`.   \n",
    "See: https://www.dlitz.net/software/pycrypto/api/2.6/Crypto.PublicKey.RSA-module.html\n",
    "\n",
    "- Similarly, if you check `less ~/.ssh/known_hosts`, you shall see a number of lines of records, composing of:  \n",
    "\n",
    "`<domain_name,ip_address> <algorithm, e.g. ssh-rsa> <public_key>`  \n",
    "\n",
    "You can convert those `public_key` into `*.pem` like above and use the code snippet to check its content. You shall got `n` and `e`. When you send message to those servers, your message is encrypted with those `n` and `e`, and those server will use their private key to decrypt your message."
   ]
  },
  {
   "cell_type": "markdown",
   "metadata": {},
   "source": [
    "## Digital Signature\n",
    "\n",
    "What if Joseph pretends to be Stephen, and sends Richael another message encrypted with Richaels public key, saying \"Hello Richael. Let's meet at 6:25 am the day after tomorrow at the train station Gate 1 :)\". How does Richael know the message is truly from Stephen, or being pretended by Joseph? \n",
    "\n",
    "Another case would be Joseph intercepted Stephen's **msg_encrypt**, then modified/deleted/added some characters in that *random* stuff (\"MHgxNTMzCjB4MmFmNgoweGFiO>B<...YWE0CjB4MWZlMwoweDIzMGY=\"), before sending to Rachael for decryption? Even though he cannot decrypt the message without Richael's private key, he can still alter it. For example, hiding some information about location:"
   ]
  },
  {
   "cell_type": "code",
   "execution_count": 16,
   "metadata": {
    "ExecuteTime": {
     "end_time": "2021-01-04T11:58:04.492356Z",
     "start_time": "2021-01-04T11:58:04.483845Z"
    }
   },
   "outputs": [
    {
     "data": {
      "text/plain": [
       "b'MHgyZjhhNgoweDExZGJhCjB4MTFiNjAKMHgxMWI2MAoweDI0MjAKMHgxNmE0NQoweDNhNDM2CjB4MTRlNjcKMHgzMGYwMgoweGJkMjgKMHgzYThmMgoweDExZGJhCjB4MTFiNjAKMHgxNjU3NwoweDE2YTQ1CjB4MzNmMjkKMHgxMWRiYQoweGZlYmIKMHgxYWFjZAoweGVmZDUKMHgxNmE0NQoweDEyMzliCjB4MTFkYmEKMHgxMWRiYQoweGZlYmIKMHgxNmE0NQoweDNhOGYyCjB4ZmViYgoweDE2YTQ1CjB4MTMwYmEKMHgzODczMQoweDFmNjdmCjB4MjlkYjM='"
      ]
     },
     "execution_count": 16,
     "metadata": {},
     "output_type": "execute_result"
    }
   ],
   "source": [
    "encry_msg_alter = base64.b64encode(\n",
    "    \"\\n\".join(base64.b64decode(encry_msg).decode(\"utf8\").split(\"\\n\")[:33]).encode(\n",
    "        \"utf8\"\n",
    "    )\n",
    ")\n",
    "encry_msg_alter"
   ]
  },
  {
   "cell_type": "code",
   "execution_count": 17,
   "metadata": {
    "ExecuteTime": {
     "end_time": "2021-01-04T11:58:04.902919Z",
     "start_time": "2021-01-04T11:58:04.494199Z"
    }
   },
   "outputs": [
    {
     "name": "stdout",
     "output_type": "stream",
     "text": [
      "[72, 101, 108, 108, 111, 32, 82, 105, 99, 104, 97, 101, 108, 46, 32, 76, 101, 116, 39, 115, 32, 109, 101, 101, 116, 32, 97, 116, 32, 54, 58, 50, 53]\n",
      "Hello Richael. Let's meet at 6:25\n"
     ]
    }
   ],
   "source": [
    "# RSA decode\n",
    "decry_msg = [\n",
    "    int(i, 16) ** private_key[1] % private_key[0]\n",
    "    for i in base64.b64decode(encry_msg_alter).decode(\"utf8\").split(\"\\n\")\n",
    "]\n",
    "print(decry_msg)\n",
    "print(\"\".join([chr(i) for i in decry_msg]))"
   ]
  },
  {
   "cell_type": "markdown",
   "metadata": {},
   "source": [
    "### Two Way RSA\n",
    "\n",
    "Previously, we introduced only one-way RSA: everyone has Richael's **public** key. But Richael can also have others' **public** key, especially, the message sender Stephen's: "
   ]
  },
  {
   "cell_type": "code",
   "execution_count": 18,
   "metadata": {
    "ExecuteTime": {
     "end_time": "2021-01-04T11:58:04.912495Z",
     "start_time": "2021-01-04T11:58:04.905264Z"
    }
   },
   "outputs": [
    {
     "data": {
      "text/plain": [
       "((2701, 1993), (2701, 1177))"
      ]
     },
     "execution_count": 18,
     "metadata": {},
     "output_type": "execute_result"
    }
   ],
   "source": [
    "# Stephen generate his key pair\n",
    "p = random.choice(list(find_prime(1024)))\n",
    "q = random.choice(list(find_prime(1024)))\n",
    "assert check_prime(p)\n",
    "assert check_prime(q)\n",
    "n = p * q\n",
    "p, q, n, len(bin(n)), bin(n)\n",
    "\n",
    "# Euler number\n",
    "phi = (p - 1) * (q - 1)\n",
    "phi\n",
    "\n",
    "e = random.choice(find_prime(phi))\n",
    "assert check_prime(e)\n",
    "e\n",
    "\n",
    "k = modinv(e, phi)[0]\n",
    "k\n",
    "\n",
    "public_key_stephen, private_key_stephen = (n, e), (n, k)\n",
    "public_key_stephen, private_key_stephen"
   ]
  },
  {
   "cell_type": "markdown",
   "metadata": {},
   "source": [
    "### Hash\n",
    "\n",
    "Stephen will keep his **private** key to himself, but share the **public** key to his friends, including Richael. Before Stephen sends the message to Richael, he will also generate an **abstract** of the total message, e.g. with Hash:"
   ]
  },
  {
   "cell_type": "code",
   "execution_count": 19,
   "metadata": {
    "ExecuteTime": {
     "end_time": "2021-01-04T11:58:04.922228Z",
     "start_time": "2021-01-04T11:58:04.915007Z"
    }
   },
   "outputs": [
    {
     "data": {
      "text/plain": [
       "'22edc929d9211d1102f7af88b85ea472c9e64629074985cba94607526dff3029'"
      ]
     },
     "execution_count": 19,
     "metadata": {},
     "output_type": "execute_result"
    }
   ],
   "source": [
    "signature = sha256(b\"Hello Richael. Let's meet at 6:25 pm tomorrow at the airport Gate5, Terminal 2 --Stephen :)\").hexdigest()\n",
    "signature"
   ]
  },
  {
   "cell_type": "markdown",
   "metadata": {},
   "source": [
    "Now Stephen will encrypt this abstract with his **private** key:"
   ]
  },
  {
   "cell_type": "code",
   "execution_count": 20,
   "metadata": {
    "ExecuteTime": {
     "end_time": "2021-01-04T11:58:04.931883Z",
     "start_time": "2021-01-04T11:58:04.924657Z"
    }
   },
   "outputs": [
    {
     "data": {
      "text/plain": [
       "b'MHg4YjEKMHg4YjEKMHg0NGMKMHg2NAoweDlmMAoweDViMgoweDhiMQoweDViMgoweDY0CjB4NWIyCjB4OGIxCjB4MTBjCjB4MTBjCjB4NjQKMHgxMGMKMHgxMGMKMHg5MjYKMHg4YjEKMHgyZjkKMHg4NTUKMHg2MQoweDJmOQoweDFlZQoweDFlZQoweGEzZQoweDFlZQoweDY2OAoweDQ0YwoweDYxCjB4M2U5CjB4ODU1CjB4OGIxCjB4OWYwCjB4NWIyCjB4NDRjCjB4ZjQKMHgzZTkKMHhmNAoweDhiMQoweDViMgoweDkyNgoweDg1NQoweDNlOQoweDViMgoweDFlZQoweDY2OAoweDlmMAoweGEzZQoweDYxCjB4NWIyCjB4M2U5CjB4ZjQKMHg5MjYKMHg4NTUKMHg2NjgKMHg4YjEKMHhmNAoweDY0CjB4MmY5CjB4MmY5CjB4MzMKMHg5MjYKMHg4YjEKMHg1YjI='"
      ]
     },
     "execution_count": 20,
     "metadata": {},
     "output_type": "execute_result"
    }
   ],
   "source": [
    "# hex encode or something else\n",
    "encry_sig = \"\\n\".join(\n",
    "    [\n",
    "        hex((ord(val) ** private_key_stephen[1]) % private_key_stephen[0])\n",
    "        for val in signature\n",
    "    ]\n",
    ")\n",
    "\n",
    "# base64 encode\n",
    "encry_sig = base64.b64encode(encry_sig.encode(\"utf8\"))\n",
    "encry_sig"
   ]
  },
  {
   "cell_type": "markdown",
   "metadata": {},
   "source": [
    "Finally, the message ready to be shipped to Richael by Stephen becomes:"
   ]
  },
  {
   "cell_type": "code",
   "execution_count": 21,
   "metadata": {
    "ExecuteTime": {
     "end_time": "2021-01-04T11:58:04.941675Z",
     "start_time": "2021-01-04T11:58:04.933822Z"
    }
   },
   "outputs": [
    {
     "data": {
      "text/plain": [
       "{'msg': b'MHgyZjhhNgoweDExZGJhCjB4MTFiNjAKMHgxMWI2MAoweDI0MjAKMHgxNmE0NQoweDNhNDM2CjB4MTRlNjcKMHgzMGYwMgoweGJkMjgKMHgzYThmMgoweDExZGJhCjB4MTFiNjAKMHgxNjU3NwoweDE2YTQ1CjB4MzNmMjkKMHgxMWRiYQoweGZlYmIKMHgxYWFjZAoweGVmZDUKMHgxNmE0NQoweDEyMzliCjB4MTFkYmEKMHgxMWRiYQoweGZlYmIKMHgxNmE0NQoweDNhOGYyCjB4ZmViYgoweDE2YTQ1CjB4MTMwYmEKMHgzODczMQoweDFmNjdmCjB4MjlkYjMKMHgxNmE0NQoweDM2M2IzCjB4MTIzOWIKMHgxNmE0NQoweGZlYmIKMHgyNDIwCjB4MTIzOWIKMHgyNDIwCjB4MzlkMDQKMHgzOWQwNAoweDI0MjAKMHgyODM3MQoweDE2YTQ1CjB4M2E4ZjIKMHhmZWJiCjB4MTZhNDUKMHhmZWJiCjB4YmQyOAoweDExZGJhCjB4MTZhNDUKMHgzYThmMgoweDE0ZTY3CjB4MzlkMDQKMHgzNjNiMwoweDI0MjAKMHgzOWQwNAoweGZlYmIKMHgxNmE0NQoweDI1YWJhCjB4M2E4ZjIKMHhmZWJiCjB4MTFkYmEKMHgyOWRiMwoweDNiNjZmCjB4MTZhNDUKMHg5NmVhCjB4MTFkYmEKMHgzOWQwNAoweDEyMzliCjB4MTRlNjcKMHgzODM1ZAoweDNhOGYyCjB4MTFiNjAKMHgxNmE0NQoweDFmNjdmCjB4MTZhNDUKMHgxNzNhYwoweDE3M2FjCjB4OTFkYQoweGZlYmIKMHgxMWRiYQoweDM2M2IzCjB4YmQyOAoweDExZGJhCjB4MzgzNWQKMHgxNmE0NQoweDM4NzMxCjB4MTY4M2U=',\n",
       " 'signature': b'MHg4YjEKMHg4YjEKMHg0NGMKMHg2NAoweDlmMAoweDViMgoweDhiMQoweDViMgoweDY0CjB4NWIyCjB4OGIxCjB4MTBjCjB4MTBjCjB4NjQKMHgxMGMKMHgxMGMKMHg5MjYKMHg4YjEKMHgyZjkKMHg4NTUKMHg2MQoweDJmOQoweDFlZQoweDFlZQoweGEzZQoweDFlZQoweDY2OAoweDQ0YwoweDYxCjB4M2U5CjB4ODU1CjB4OGIxCjB4OWYwCjB4NWIyCjB4NDRjCjB4ZjQKMHgzZTkKMHhmNAoweDhiMQoweDViMgoweDkyNgoweDg1NQoweDNlOQoweDViMgoweDFlZQoweDY2OAoweDlmMAoweGEzZQoweDYxCjB4NWIyCjB4M2U5CjB4ZjQKMHg5MjYKMHg4NTUKMHg2NjgKMHg4YjEKMHhmNAoweDY0CjB4MmY5CjB4MmY5CjB4MzMKMHg5MjYKMHg4YjEKMHg1YjI='}"
      ]
     },
     "execution_count": 21,
     "metadata": {},
     "output_type": "execute_result"
    }
   ],
   "source": [
    "message_to_Richael = {\"msg\": encry_msg, \"signature\": encry_sig}\n",
    "message_to_Richael"
   ]
  },
  {
   "cell_type": "markdown",
   "metadata": {},
   "source": [
    "### Richael's Verification\n",
    "\n",
    "Now, what Richael will do is:\n",
    "- Use her own **private** key to decrypt **msg**\n",
    "- Use Stephen's **public** key to decrypt **signature**\n",
    "- SHA256 Hash the decrypted **msg** to reproduce the **signature**\n",
    "- Compare the 2 **signatures** and see if they match:\n",
    "    - if they do, the message is from Stephen and it is intact.\n",
    "    - if not, something dodgy happened."
   ]
  },
  {
   "cell_type": "code",
   "execution_count": 22,
   "metadata": {
    "ExecuteTime": {
     "end_time": "2021-01-04T11:58:06.094297Z",
     "start_time": "2021-01-04T11:58:04.943156Z"
    }
   },
   "outputs": [
    {
     "name": "stdout",
     "output_type": "stream",
     "text": [
      "Hello Richael. Let's meet at 6:25 pm tomorrow at the airport Gate5, Terminal 2 --Stephen :)\n"
     ]
    }
   ],
   "source": [
    "# RSA decode msg\n",
    "decry_msg = [\n",
    "    int(i, 16) ** private_key[1] % private_key[0]\n",
    "    for i in base64.b64decode(message_to_Richael[\"msg\"]).decode(\"utf8\").split(\"\\n\")\n",
    "]\n",
    "decry_msg = \"\".join([chr(i) for i in decry_msg])\n",
    "print(decry_msg)"
   ]
  },
  {
   "cell_type": "code",
   "execution_count": 23,
   "metadata": {
    "ExecuteTime": {
     "end_time": "2021-01-04T11:58:06.117180Z",
     "start_time": "2021-01-04T11:58:06.102154Z"
    }
   },
   "outputs": [
    {
     "name": "stdout",
     "output_type": "stream",
     "text": [
      "[50, 50, 101, 100, 99, 57, 50, 57, 100, 57, 50, 49, 49, 100, 49, 49, 48, 50, 102, 55, 97, 102, 56, 56, 98, 56, 53, 101, 97, 52, 55, 50, 99, 57, 101, 54, 52, 54, 50, 57, 48, 55, 52, 57, 56, 53, 99, 98, 97, 57, 52, 54, 48, 55, 53, 50, 54, 100, 102, 102, 51, 48, 50, 57]\n",
      "22edc929d9211d1102f7af88b85ea472c9e64629074985cba94607526dff3029\n"
     ]
    }
   ],
   "source": [
    "# RSA decode sig\n",
    "decry_sig = [\n",
    "    int(i, 16) ** public_key_stephen[1] % public_key_stephen[0]\n",
    "    for i in base64.b64decode(message_to_Richael[\"signature\"]).decode(\"utf8\").split(\"\\n\")\n",
    "]\n",
    "print(decry_sig)\n",
    "print(\"\".join([chr(i) for i in decry_sig]))"
   ]
  },
  {
   "cell_type": "code",
   "execution_count": 24,
   "metadata": {
    "ExecuteTime": {
     "end_time": "2021-01-04T11:58:06.129563Z",
     "start_time": "2021-01-04T11:58:06.121117Z"
    }
   },
   "outputs": [
    {
     "data": {
      "text/plain": [
       "True"
      ]
     },
     "execution_count": 24,
     "metadata": {},
     "output_type": "execute_result"
    }
   ],
   "source": [
    "# Compare Digital Signature\n",
    "sha256(\n",
    "    b\"Hello Richael. Let's meet at 6:25 pm tomorrow at the airport Gate5, Terminal 2 --Stephen :)\"\n",
    ").hexdigest() == \"\".join([chr(i) for i in decry_sig])"
   ]
  },
  {
   "cell_type": "code",
   "execution_count": 25,
   "metadata": {
    "ExecuteTime": {
     "end_time": "2021-01-04T11:58:06.196155Z",
     "start_time": "2021-01-04T11:58:06.133599Z"
    }
   },
   "outputs": [
    {
     "ename": "AssertionError",
     "evalue": "[Attention]: Dodgy thing happened with this message! Be CAREFULL!",
     "output_type": "error",
     "traceback": [
      "\u001b[0;31m---------------------------------------------------------------------------\u001b[0m",
      "\u001b[0;31mAssertionError\u001b[0m                            Traceback (most recent call last)",
      "\u001b[0;32m<ipython-input-25-a3fa67042ccb>\u001b[0m in \u001b[0;36m<module>\u001b[0;34m\u001b[0m\n\u001b[1;32m      1\u001b[0m assert sha256(b\"Hello Richael. Let's meet at 6:25\").hexdigest() == \"\".join(\n\u001b[1;32m      2\u001b[0m     \u001b[0;34m[\u001b[0m\u001b[0mchr\u001b[0m\u001b[0;34m(\u001b[0m\u001b[0mi\u001b[0m\u001b[0;34m)\u001b[0m \u001b[0;32mfor\u001b[0m \u001b[0mi\u001b[0m \u001b[0;32min\u001b[0m \u001b[0mdecry_sig\u001b[0m\u001b[0;34m]\u001b[0m\u001b[0;34m\u001b[0m\u001b[0;34m\u001b[0m\u001b[0m\n\u001b[0;32m----> 3\u001b[0;31m ), \"[Attention]: Dodgy thing happened with this message! Be CAREFULL!\"\n\u001b[0m",
      "\u001b[0;31mAssertionError\u001b[0m: [Attention]: Dodgy thing happened with this message! Be CAREFULL!"
     ]
    }
   ],
   "source": [
    "assert sha256(b\"Hello Richael. Let's meet at 6:25\").hexdigest() == \"\".join(\n",
    "    [chr(i) for i in decry_sig]\n",
    "), \"[Attention]: Dodgy thing happened with this message! Be CAREFULL!\""
   ]
  },
  {
   "cell_type": "markdown",
   "metadata": {},
   "source": [
    "For Joseph, he can also have Stephen's **public key**, intercept and decrypt the signature. However, if now he wants to alter the message (\"random\" stuff) without being found out, he must alter the Hash (\"22edc929d9211d1102f7af88b85ea472c9e64629074985cba94607526dff3029\") as well and **make sure they match**. Without decrypting the original message, it is infeasible to generated its Hash. Therefore Joseph has 2 options: alter the message and being found out, or leave message as is."
   ]
  },
  {
   "cell_type": "code",
   "execution_count": 26,
   "metadata": {
    "ExecuteTime": {
     "end_time": "2021-01-04T11:58:27.078828Z",
     "start_time": "2021-01-04T11:58:27.064107Z"
    }
   },
   "outputs": [
    {
     "data": {
      "text/plain": [
       "b'MHg4YjEKMHg4YjEKMHg0NGMKMHg2NAoweDlmMAoweDViMgoweDhiMQoweDViMgoweDY0CjB4NWIy'"
      ]
     },
     "execution_count": 26,
     "metadata": {},
     "output_type": "execute_result"
    }
   ],
   "source": [
    "# alter signature\n",
    "encry_sig_alter = \"\\n\".join(\n",
    "    [\n",
    "        hex((ord(val) ** private_key_stephen[1]) % private_key_stephen[0])\n",
    "        for val in signature[:10]\n",
    "    ]\n",
    ")\n",
    "\n",
    "# base64 encode\n",
    "encry_sig_alter = base64.b64encode(encry_sig_alter.encode(\"utf8\"))\n",
    "encry_sig_alter"
   ]
  },
  {
   "cell_type": "code",
   "execution_count": 27,
   "metadata": {
    "ExecuteTime": {
     "end_time": "2021-01-04T11:58:27.088788Z",
     "start_time": "2021-01-04T11:58:27.081080Z"
    }
   },
   "outputs": [
    {
     "name": "stdout",
     "output_type": "stream",
     "text": [
      "[50, 50, 101, 100, 99, 57, 50, 57, 100, 57]\n",
      "22edc929d9\n"
     ]
    }
   ],
   "source": [
    "# doesn't match\n",
    "decry_sig_alter = [\n",
    "    int(i, 16) ** public_key_stephen[1] % public_key_stephen[0]\n",
    "    for i in base64.b64decode(encry_sig_alter).decode(\"utf8\").split(\"\\n\")\n",
    "]\n",
    "print(decry_sig_alter)\n",
    "print(\"\".join([chr(i) for i in decry_sig_alter]))"
   ]
  },
  {
   "cell_type": "markdown",
   "metadata": {},
   "source": [
    "## Certificate\n",
    "\n",
    "### Problem:\n",
    "\n",
    "Last issue: How do we trust those **public** keys received from different identities?\n",
    "\n",
    "Joseph could totally generate his own key pair and pretend to be Richael. When Richael's friends receive the **public key**, how do they know it truly comes from Richael, rather than Joseph?\n",
    "\n",
    "Joseph could also generate another pair of keys, sent the **public** key to Richael and claming it is from Stephen. How does Richael know the **public** key is truly from Stephen?\n",
    "\n",
    "Without verification, Joseph hijacks the information transmission between Richael and Stephen.\n",
    "\n",
    "### Solution: Certificate Authority (CA)\n",
    "\n",
    "CA is similar to the driving license issuer, e.g. Police Station or Government. They will verify identity of servers sharing their **public** key to other people and make sure it's genuine. For example:\n",
    "- Stephen, to avoid being pretended by any other indiviudal like Joseph, must visit CA and show all his proof to convence CA that he is the real Stephen. \n",
    "- Once convenced, CA will take over Stephen's **public** key plus other personal information, e.g., name, birthday, address, etc, encrypt them with CA's **private** key, and issue back to Stephen. This is called **Certificate**.\n",
    "- When sending message to Richael, Stephen actually sends 3 things:\n",
    "    1. Certificate Issued by CA\n",
    "    2. Message encrypted by Richael's **public** key\n",
    "    3. Message Signature encrypted by Stephen's **private** key\n",
    "- When receiving message from Stephen, Richael does:\n",
    "    1. Download the **public** key of CA and use it to decrypt **Certificate** included by Stephen. She will obtain the **public** key along with other identity information, for example, name, birthday, address, etc. \n",
    "    2. Only if she verified those information and confirm it's Stephen, this **public** key is used to decrypt the **signature**.\n",
    "    3. Decrypt the message with her own **private** key, and Hash it to reproduce the **signature**.\n",
    "    4. Compare the 2 **signaure** and see if they match."
   ]
  },
  {
   "cell_type": "code",
   "execution_count": 28,
   "metadata": {
    "ExecuteTime": {
     "end_time": "2021-01-04T11:58:27.240469Z",
     "start_time": "2021-01-04T11:58:27.220521Z"
    }
   },
   "outputs": [
    {
     "data": {
      "text/plain": [
       "((68513, 64123), (68513, 11767))"
      ]
     },
     "execution_count": 28,
     "metadata": {},
     "output_type": "execute_result"
    }
   ],
   "source": [
    "# CA generate the key pair\n",
    "p = random.choice(list(find_prime(1024)))\n",
    "q = random.choice(list(find_prime(1024)))\n",
    "assert check_prime(p)\n",
    "assert check_prime(q)\n",
    "n = p * q\n",
    "p, q, n, len(bin(n)), bin(n)\n",
    "\n",
    "# Euler number\n",
    "phi = (p - 1) * (q - 1)\n",
    "phi\n",
    "\n",
    "e = random.choice(find_prime(phi))\n",
    "assert check_prime(e)\n",
    "e\n",
    "\n",
    "k = modinv(e, phi)[0]\n",
    "k\n",
    "\n",
    "public_key_CA, private_key_CA = (n, e), (n, k)\n",
    "public_key_CA, private_key_CA"
   ]
  },
  {
   "cell_type": "code",
   "execution_count": 29,
   "metadata": {
    "ExecuteTime": {
     "end_time": "2021-01-04T11:58:27.250574Z",
     "start_time": "2021-01-04T11:58:27.243019Z"
    }
   },
   "outputs": [
    {
     "data": {
      "text/plain": [
       "\"{'pub_key': '(2701, 1993)', 'name': 'Stephen'}\""
      ]
     },
     "execution_count": 29,
     "metadata": {},
     "output_type": "execute_result"
    }
   ],
   "source": [
    "# Stephen lodge his information\n",
    "stephen_info = {\"pub_key\": str(public_key_stephen), \"name\": \"Stephen\"}\n",
    "str(stephen_info)"
   ]
  },
  {
   "cell_type": "code",
   "execution_count": 30,
   "metadata": {
    "ExecuteTime": {
     "end_time": "2021-01-04T11:58:27.275812Z",
     "start_time": "2021-01-04T11:58:27.253021Z"
    }
   },
   "outputs": [
    {
     "data": {
      "text/plain": [
       "{'pub_key': b'MHgxMDVlNAoweGNhMTYKMHg0MjkyCjB4ODdlOAoweDY0NzcKMHhiZGJjCjB4YWMwOAoweDY0NzcKMHhlZjEzCjB4ZWYxMwoweDEzMDIKMHgzOGI3',\n",
       " 'name': b'MHg5MTA3CjB4ZTBjYQoweGFiNWMKMHhjN2Y1CjB4MmM4CjB4YWI1YwoweDdiMjM='}"
      ]
     },
     "execution_count": 30,
     "metadata": {},
     "output_type": "execute_result"
    }
   ],
   "source": [
    "# certificate\n",
    "certificate = {}\n",
    "certificate[\"pub_key\"] = base64.b64encode(\n",
    "    \"\\n\".join(\n",
    "        [\n",
    "            hex((ord(val) ** private_key_CA[1]) % private_key_CA[0])\n",
    "            for val in stephen_info[\"pub_key\"]\n",
    "        ]\n",
    "    ).encode(\"utf8\")\n",
    ")\n",
    "certificate[\"name\"] = base64.b64encode(\n",
    "    \"\\n\".join(\n",
    "        [\n",
    "            hex((ord(val) ** private_key_CA[1]) % private_key_CA[0])\n",
    "            for val in stephen_info[\"name\"]\n",
    "        ]\n",
    "    ).encode(\"utf8\")\n",
    ")\n",
    "certificate"
   ]
  },
  {
   "cell_type": "code",
   "execution_count": 31,
   "metadata": {
    "ExecuteTime": {
     "end_time": "2021-01-04T11:58:27.280401Z",
     "start_time": "2021-01-04T11:58:27.277613Z"
    }
   },
   "outputs": [],
   "source": [
    "# message send to Richael by Stephen\n",
    "message_to_Richael = {\"cert\": certificate, \"msg\": encry_msg, \"signature\": encry_sig}"
   ]
  },
  {
   "cell_type": "code",
   "execution_count": 32,
   "metadata": {
    "ExecuteTime": {
     "end_time": "2021-01-04T11:58:28.317109Z",
     "start_time": "2021-01-04T11:58:27.282904Z"
    }
   },
   "outputs": [
    {
     "name": "stdout",
     "output_type": "stream",
     "text": [
      "CA Public Key:  (68513, 64123)\n",
      "Stepen Public Key:  (2701, 1993)\n",
      "Stephen\n"
     ]
    }
   ],
   "source": [
    "# Richael's Process\n",
    "# Step 1: download CA's public key\n",
    "print(\"CA Public Key: \", public_key_CA)\n",
    "\n",
    "# Step 2: verify Stephen's certificate with CA's public key\n",
    "public_key_st = [\n",
    "    int(i, 16) ** public_key_CA[1] % public_key_CA[0]\n",
    "    for i in base64.b64decode(message_to_Richael[\"cert\"][\"pub_key\"])\n",
    "    .decode(\"utf8\")\n",
    "    .split(\"\\n\")\n",
    "]\n",
    "public_key_st = eval(\"\".join([chr(i) for i in public_key_st]))\n",
    "print(\"Stepen Public Key: \", public_key_st)\n",
    "\n",
    "name = [\n",
    "    int(i, 16) ** public_key_CA[1] % public_key_CA[0]\n",
    "    for i in base64.b64decode(message_to_Richael[\"cert\"][\"name\"])\n",
    "    .decode(\"utf8\")\n",
    "    .split(\"\\n\")\n",
    "]\n",
    "print(\"\".join([chr(i) for i in name]))"
   ]
  },
  {
   "cell_type": "code",
   "execution_count": 33,
   "metadata": {
    "ExecuteTime": {
     "end_time": "2021-01-04T11:58:31.682255Z",
     "start_time": "2021-01-04T11:58:28.319985Z"
    }
   },
   "outputs": [
    {
     "name": "stdout",
     "output_type": "stream",
     "text": [
      "Hello Richael. Let's meet at 6:25 pm tomorrow at the airport Gate5, Terminal 2 --Stephen :)\n"
     ]
    }
   ],
   "source": [
    "# Step 3: If Richael is Ok with the above info and believe it is Stephen\n",
    "# RSA decode msg with Richael's private key\n",
    "decry_msg = [\n",
    "    int(i, 16) ** private_key[1] % private_key[0]\n",
    "    for i in base64.b64decode(message_to_Richael[\"msg\"]).decode(\"utf8\").split(\"\\n\")\n",
    "]\n",
    "decry_msg = \"\".join([chr(i) for i in decry_msg])\n",
    "print(decry_msg)"
   ]
  },
  {
   "cell_type": "code",
   "execution_count": 34,
   "metadata": {
    "ExecuteTime": {
     "end_time": "2021-01-04T11:58:31.746290Z",
     "start_time": "2021-01-04T11:58:31.684973Z"
    }
   },
   "outputs": [
    {
     "name": "stdout",
     "output_type": "stream",
     "text": [
      "22edc929d9211d1102f7af88b85ea472c9e64629074985cba94607526dff3029\n"
     ]
    }
   ],
   "source": [
    "# RSA decode sig with CA decrypted public key\n",
    "decry_sig = [\n",
    "    int(i, 16) ** public_key_st[1] % public_key_st[0]\n",
    "    for i in base64.b64decode(message_to_Richael[\"signature\"]).decode(\"utf8\").split(\"\\n\")\n",
    "]\n",
    "print(\"\".join([chr(i) for i in decry_sig]))"
   ]
  },
  {
   "cell_type": "code",
   "execution_count": 35,
   "metadata": {
    "ExecuteTime": {
     "end_time": "2021-01-04T11:58:31.785560Z",
     "start_time": "2021-01-04T11:58:31.768912Z"
    }
   },
   "outputs": [
    {
     "data": {
      "text/plain": [
       "True"
      ]
     },
     "execution_count": 35,
     "metadata": {},
     "output_type": "execute_result"
    }
   ],
   "source": [
    "# Compare Digital Signature\n",
    "sha256(decry_msg.encode(\"utf8\")).hexdigest() == \"\".join([chr(i) for i in decry_sig])"
   ]
  },
  {
   "cell_type": "markdown",
   "metadata": {},
   "source": [
    "Now as to Joseph, if still wants to pretend to be Stephen, would have 3 ways to go:\n",
    "1. Go to CA and try to convence them that he is the real Stephen, to have his fake **public** key certified, or\n",
    "2. Manage to have access to CA's **private** key, so he can certify himself, or\n",
    "3. Become a CA.\n",
    "\n",
    "Well..."
   ]
  },
  {
   "cell_type": "markdown",
   "metadata": {},
   "source": [
    "## Reference\n",
    "\n",
    "- https://blog.vrypan.net/2013/08/28/public-key-cryptography-for-non-geeks/\n",
    "- https://www.ruanyifeng.com/blog/2013/06/rsa_algorithm_part_one.html\n",
    "- https://us-cert.cisa.gov/ncas/tips/ST04-018#:~:text=Digital%20signatures%20work%20by%20proving,using%20the%20sender's%20private%20key."
   ]
  }
 ],
 "metadata": {
  "kernelspec": {
   "display_name": "mlmax",
   "language": "python",
   "name": "mlmax"
  },
  "language_info": {
   "codemirror_mode": {
    "name": "ipython",
    "version": 3
   },
   "file_extension": ".py",
   "mimetype": "text/x-python",
   "name": "python",
   "nbconvert_exporter": "python",
   "pygments_lexer": "ipython3",
   "version": "3.6.10"
  },
  "latex_envs": {
   "LaTeX_envs_menu_present": true,
   "autoclose": false,
   "autocomplete": true,
   "bibliofile": "biblio.bib",
   "cite_by": "apalike",
   "current_citInitial": 1,
   "eqLabelWithNumbers": true,
   "eqNumInitial": 1,
   "hotkeys": {
    "equation": "Ctrl-E",
    "itemize": "Ctrl-I"
   },
   "labels_anchors": false,
   "latex_user_defs": false,
   "report_style_numbering": false,
   "user_envs_cfg": false
  }
 },
 "nbformat": 4,
 "nbformat_minor": 4
}
